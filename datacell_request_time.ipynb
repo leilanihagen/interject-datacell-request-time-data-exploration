{
 "cells": [
  {
   "cell_type": "markdown",
   "metadata": {},
   "source": [
    "## Setting Up"
   ]
  },
  {
   "cell_type": "code",
   "execution_count": null,
   "metadata": {},
   "outputs": [],
   "source": [
    "from IPython.display import clear_output\n",
    "\n",
    "for i in range(100):\n",
    "    clear_output()"
   ]
  },
  {
   "cell_type": "code",
   "execution_count": 1,
   "metadata": {},
   "outputs": [],
   "source": [
    "import pyodbc\n",
    "import sqlalchemy as sqla"
   ]
  },
  {
   "cell_type": "code",
   "execution_count": 2,
   "metadata": {},
   "outputs": [],
   "source": [
    "# Connect via Windows authentication:\n",
    "# conn_specs = ('DRIVER={ODBC Driver 17 for SQL Server};'\n",
    "#                                     + 'SERVER=scotty-test;'\n",
    "#                                     + 'DATABASE=Interject_Reporting;'\n",
    "#                                    + 'trusted_connection=yes;')\n",
    "# conn_str = 'mssql+pyodbc:///?odbc_connect={}'.format(conn_specs)\n",
    "# engine = sqla.create_engine(conn_str)\n",
    "\n",
    "# Define a function that we can use to connect to a db on the fly:\n",
    "def pyodbc_connect_scotty_test(db_name):\n",
    "    try:\n",
    "        connection = pyodbc.connect('DRIVER={ODBC Driver 17 for SQL Server};'\n",
    "                                        + 'SERVER=scotty-test;'\n",
    "                                        + 'DATABASE=' + db_name + ';'\n",
    "                                       + 'trusted_connection=yes;')\n",
    "        return connection\n",
    "    except:\n",
    "        return 1 # could not connect"
   ]
  },
  {
   "cell_type": "code",
   "execution_count": 4,
   "metadata": {},
   "outputs": [],
   "source": [
    "import pandas as pd"
   ]
  },
  {
   "cell_type": "code",
   "execution_count": 5,
   "metadata": {},
   "outputs": [],
   "source": [
    "# Connect to [Interject_Reporting]:\n",
    "# intj_reporting_df = pd.read_sql('[DataCells].[Request]', engine)\n",
    "\n",
    "reporting_conn = pyodbc_connect_scotty_test('Interject_Reporting')"
   ]
  },
  {
   "cell_type": "code",
   "execution_count": 6,
   "metadata": {},
   "outputs": [],
   "source": [
    "# Create a cursor to run straight SQL queries:\n",
    "reporting_cursor = reporting_conn.cursor()"
   ]
  },
  {
   "cell_type": "code",
   "execution_count": 7,
   "metadata": {
    "slideshow": {
     "slide_type": "notes"
    }
   },
   "outputs": [],
   "source": [
    "# Load [DataCells].[Request] and [DataCells].[Request_History] into DataFrames:\n",
    "request = 'SELECT * FROM [DataCells].[Request]'\n",
    "request_history = 'SELECT * FROM [DataCells].[Request_History]'\n",
    "request_df = pd.read_sql(request, reporting_conn) # So we don't need SQLalchemy...\n",
    "request_history_df = pd.read_sql(request_history, reporting_conn) # So we don't need SQLalchemy..."
   ]
  },
  {
   "cell_type": "markdown",
   "metadata": {},
   "source": [
    "## Visualizing DurationSeconds"
   ]
  },
  {
   "cell_type": "markdown",
   "metadata": {},
   "source": [
    "[DataCells].[DurationSeconds] includes negative values for some reason... their absolute values are accurate, but just have a - in front of them..."
   ]
  },
  {
   "cell_type": "code",
   "execution_count": 8,
   "metadata": {},
   "outputs": [
    {
     "data": {
      "text/plain": [
       "count    281.000000\n",
       "mean       5.039146\n",
       "std       60.829051\n",
       "min      -10.000000\n",
       "25%       -2.000000\n",
       "50%       -1.000000\n",
       "75%        0.000000\n",
       "max      984.000000\n",
       "Name: DurationSeconds, dtype: float64"
      ]
     },
     "execution_count": 8,
     "metadata": {},
     "output_type": "execute_result"
    }
   ],
   "source": [
    "request_df['DurationSeconds'].describe()"
   ]
  },
  {
   "cell_type": "code",
   "execution_count": 9,
   "metadata": {},
   "outputs": [
    {
     "data": {
      "text/plain": [
       "array([[<matplotlib.axes._subplots.AxesSubplot object at 0x0D094F70>]],\n",
       "      dtype=object)"
      ]
     },
     "execution_count": 9,
     "metadata": {},
     "output_type": "execute_result"
    }
   ],
   "source": [
    "# Histogram of DurationSeconds:\n",
    "request_df.hist(column='DurationSeconds')"
   ]
  },
  {
   "cell_type": "markdown",
   "metadata": {},
   "source": [
    "## Request time durations (StartTimeStamp - EndTimeStamp) for Request and Request_History tables"
   ]
  },
  {
   "cell_type": "markdown",
   "metadata": {},
   "source": [
    "Create a pd series that is ( StartTimeStamp - EndTimeStamp ). Doing this to resolve the negative DurationSeconds values reported above..."
   ]
  },
  {
   "cell_type": "markdown",
   "metadata": {},
   "source": [
    "#### Setting Up"
   ]
  },
  {
   "cell_type": "code",
   "execution_count": 10,
   "metadata": {},
   "outputs": [],
   "source": [
    "# Define a function that we can use with both [DataCells].[Request] and .[Request_History]\n",
    "def get_request_time_durations(table_name):\n",
    "    start_end_diff_sql = 'SELECT datediff(second, [StartTimeStamp], [EndTimeStamp]) as StartEndDiffSeconds FROM [DataCells].[' + table_name + ']'\n",
    "    return( pd.read_sql(start_end_diff_sql, reporting_conn) )"
   ]
  },
  {
   "cell_type": "code",
   "execution_count": 11,
   "metadata": {},
   "outputs": [],
   "source": [
    "request_durations = get_request_time_durations('Request')\n",
    "request_history_durations = get_request_time_durations('Request_History')"
   ]
  },
  {
   "cell_type": "code",
   "execution_count": 12,
   "metadata": {},
   "outputs": [],
   "source": [
    "# # Do it with a cursor:\n",
    "# reporting_cursor.execute(start_end_diff_sql)\n",
    "# request_durations = pd.Series(reporting_cursor.fetchall())\n",
    "\n",
    "# # Same thing but with read_sql() instead of cursor:\n",
    "# request_durations = pd.read_sql(start_end_diff_sql, reporting_conn)"
   ]
  },
  {
   "cell_type": "markdown",
   "metadata": {},
   "source": [
    "#### Get some initial counts"
   ]
  },
  {
   "cell_type": "code",
   "execution_count": 13,
   "metadata": {},
   "outputs": [
    {
     "data": {
      "text/plain": [
       "StartEndDiffSeconds    281\n",
       "dtype: int64"
      ]
     },
     "execution_count": 13,
     "metadata": {},
     "output_type": "execute_result"
    }
   ],
   "source": [
    "request_durations.count()"
   ]
  },
  {
   "cell_type": "code",
   "execution_count": 14,
   "metadata": {},
   "outputs": [
    {
     "data": {
      "text/plain": [
       "StartEndDiffSeconds    7417\n",
       "dtype: int64"
      ]
     },
     "execution_count": 14,
     "metadata": {},
     "output_type": "execute_result"
    }
   ],
   "source": [
    "request_history_durations.count()"
   ]
  },
  {
   "cell_type": "code",
   "execution_count": 15,
   "metadata": {},
   "outputs": [
    {
     "data": {
      "text/plain": [
       "StartEndDiffSeconds    60\n",
       "dtype: int64"
      ]
     },
     "execution_count": 15,
     "metadata": {},
     "output_type": "execute_result"
    }
   ],
   "source": [
    "request_durations.isna().sum()"
   ]
  },
  {
   "cell_type": "code",
   "execution_count": 16,
   "metadata": {},
   "outputs": [
    {
     "data": {
      "text/plain": [
       "StartEndDiffSeconds    67\n",
       "dtype: int64"
      ]
     },
     "execution_count": 16,
     "metadata": {},
     "output_type": "execute_result"
    }
   ],
   "source": [
    "request_history_durations.isna().sum()"
   ]
  },
  {
   "cell_type": "markdown",
   "metadata": {},
   "source": [
    "#### Describe as DF"
   ]
  },
  {
   "cell_type": "code",
   "execution_count": 17,
   "metadata": {},
   "outputs": [
    {
     "data": {
      "text/html": [
       "<div>\n",
       "<style scoped>\n",
       "    .dataframe tbody tr th:only-of-type {\n",
       "        vertical-align: middle;\n",
       "    }\n",
       "\n",
       "    .dataframe tbody tr th {\n",
       "        vertical-align: top;\n",
       "    }\n",
       "\n",
       "    .dataframe thead th {\n",
       "        text-align: right;\n",
       "    }\n",
       "</style>\n",
       "<table border=\"1\" class=\"dataframe\">\n",
       "  <thead>\n",
       "    <tr style=\"text-align: right;\">\n",
       "      <th></th>\n",
       "      <th>StartEndDiffSeconds</th>\n",
       "    </tr>\n",
       "  </thead>\n",
       "  <tbody>\n",
       "    <tr>\n",
       "      <th>count</th>\n",
       "      <td>281.000000</td>\n",
       "    </tr>\n",
       "    <tr>\n",
       "      <th>mean</th>\n",
       "      <td>7.825623</td>\n",
       "    </tr>\n",
       "    <tr>\n",
       "      <th>std</th>\n",
       "      <td>60.532059</td>\n",
       "    </tr>\n",
       "    <tr>\n",
       "      <th>min</th>\n",
       "      <td>0.000000</td>\n",
       "    </tr>\n",
       "    <tr>\n",
       "      <th>25%</th>\n",
       "      <td>1.000000</td>\n",
       "    </tr>\n",
       "    <tr>\n",
       "      <th>50%</th>\n",
       "      <td>1.000000</td>\n",
       "    </tr>\n",
       "    <tr>\n",
       "      <th>75%</th>\n",
       "      <td>4.000000</td>\n",
       "    </tr>\n",
       "    <tr>\n",
       "      <th>max</th>\n",
       "      <td>984.000000</td>\n",
       "    </tr>\n",
       "  </tbody>\n",
       "</table>\n",
       "</div>"
      ],
      "text/plain": [
       "       StartEndDiffSeconds\n",
       "count           281.000000\n",
       "mean              7.825623\n",
       "std              60.532059\n",
       "min               0.000000\n",
       "25%               1.000000\n",
       "50%               1.000000\n",
       "75%               4.000000\n",
       "max             984.000000"
      ]
     },
     "execution_count": 17,
     "metadata": {},
     "output_type": "execute_result"
    }
   ],
   "source": [
    "request_durations.describe()"
   ]
  },
  {
   "cell_type": "code",
   "execution_count": 18,
   "metadata": {},
   "outputs": [
    {
     "data": {
      "text/html": [
       "<div>\n",
       "<style scoped>\n",
       "    .dataframe tbody tr th:only-of-type {\n",
       "        vertical-align: middle;\n",
       "    }\n",
       "\n",
       "    .dataframe tbody tr th {\n",
       "        vertical-align: top;\n",
       "    }\n",
       "\n",
       "    .dataframe thead th {\n",
       "        text-align: right;\n",
       "    }\n",
       "</style>\n",
       "<table border=\"1\" class=\"dataframe\">\n",
       "  <thead>\n",
       "    <tr style=\"text-align: right;\">\n",
       "      <th></th>\n",
       "      <th>StartEndDiffSeconds</th>\n",
       "    </tr>\n",
       "  </thead>\n",
       "  <tbody>\n",
       "    <tr>\n",
       "      <th>count</th>\n",
       "      <td>7.417000e+03</td>\n",
       "    </tr>\n",
       "    <tr>\n",
       "      <th>mean</th>\n",
       "      <td>3.146081e+02</td>\n",
       "    </tr>\n",
       "    <tr>\n",
       "      <th>std</th>\n",
       "      <td>2.532012e+04</td>\n",
       "    </tr>\n",
       "    <tr>\n",
       "      <th>min</th>\n",
       "      <td>0.000000e+00</td>\n",
       "    </tr>\n",
       "    <tr>\n",
       "      <th>25%</th>\n",
       "      <td>0.000000e+00</td>\n",
       "    </tr>\n",
       "    <tr>\n",
       "      <th>50%</th>\n",
       "      <td>0.000000e+00</td>\n",
       "    </tr>\n",
       "    <tr>\n",
       "      <th>75%</th>\n",
       "      <td>1.000000e+00</td>\n",
       "    </tr>\n",
       "    <tr>\n",
       "      <th>max</th>\n",
       "      <td>2.178484e+06</td>\n",
       "    </tr>\n",
       "  </tbody>\n",
       "</table>\n",
       "</div>"
      ],
      "text/plain": [
       "       StartEndDiffSeconds\n",
       "count         7.417000e+03\n",
       "mean          3.146081e+02\n",
       "std           2.532012e+04\n",
       "min           0.000000e+00\n",
       "25%           0.000000e+00\n",
       "50%           0.000000e+00\n",
       "75%           1.000000e+00\n",
       "max           2.178484e+06"
      ]
     },
     "execution_count": 18,
     "metadata": {},
     "output_type": "execute_result"
    }
   ],
   "source": [
    "request_history_durations.describe()"
   ]
  },
  {
   "cell_type": "markdown",
   "metadata": {},
   "source": [
    "#### Plot query run time distributions"
   ]
  },
  {
   "cell_type": "markdown",
   "metadata": {},
   "source": [
    "Find unique values and their frequencies, plot the distributions."
   ]
  },
  {
   "cell_type": "code",
   "execution_count": 19,
   "metadata": {},
   "outputs": [
    {
     "data": {
      "text/plain": [
       "(341, 1)"
      ]
     },
     "execution_count": 19,
     "metadata": {},
     "output_type": "execute_result"
    }
   ],
   "source": [
    "request_durations.shape"
   ]
  },
  {
   "cell_type": "code",
   "execution_count": 20,
   "metadata": {},
   "outputs": [
    {
     "data": {
      "text/plain": [
       "(1, 341)"
      ]
     },
     "execution_count": 20,
     "metadata": {},
     "output_type": "execute_result"
    }
   ],
   "source": [
    "request_durations.T.shape"
   ]
  },
  {
   "cell_type": "code",
   "execution_count": 21,
   "metadata": {},
   "outputs": [
    {
     "name": "stdout",
     "output_type": "stream",
     "text": [
      "(341,)\n",
      "(7484,)\n"
     ]
    },
    {
     "data": {
      "text/plain": [
       "True"
      ]
     },
     "execution_count": 21,
     "metadata": {},
     "output_type": "execute_result"
    }
   ],
   "source": [
    "# 1D-ify them (should become series'):\n",
    "request_durations_series = request_durations.squeeze()\n",
    "request_history_durations_series = request_history_durations.squeeze()\n",
    "print(request_durations_series.shape)\n",
    "print(request_history_durations_series.shape)\n",
    "\n",
    "type(request_durations_series) is pd.Series\n",
    "\n",
    "# Didn't work...\n",
    "# request_durations_arr = request_durations.values\n",
    "# request_durations_arr.shape\n",
    "# request_durations_series = pd.Series(request_durations_arr)"
   ]
  },
  {
   "cell_type": "code",
   "execution_count": 22,
   "metadata": {},
   "outputs": [
    {
     "name": "stdout",
     "output_type": "stream",
     "text": [
      "[Request] unique time values: \n",
      "[  0.  12.  13.   9.   8.   1.   5.  11.  31.  27. 187. 180.  nan  24.\n",
      " 984.  20.   2.   3.   4.   7.   6.]\n",
      "\n",
      "[Request_History] unique time values: \n",
      "[0.000000e+00 1.000000e+00 4.000000e+00 3.000000e+00 4.600000e+01\n",
      " 2.000000e+00 5.000000e+00          nan 8.000000e+00 6.000000e+00\n",
      " 7.000000e+00 1.800000e+01 1.700000e+01 6.200000e+01 7.200000e+01\n",
      " 1.100000e+01 1.980000e+02 2.000000e+01 1.600000e+01 1.900000e+01\n",
      " 2.300000e+01 9.485300e+04 4.920000e+02 1.500000e+01 1.400000e+01\n",
      " 1.200000e+01 9.000000e+00 4.000000e+01 2.200000e+01 2.100000e+01\n",
      " 1.028400e+04 1.067300e+04 1.057100e+04 7.866000e+03 6.110000e+02\n",
      " 6.090000e+02 6.390000e+02 6.520000e+02 2.400000e+01 3.130000e+02\n",
      " 2.700000e+01 2.900000e+01 2.500000e+01 6.300000e+01 6.000000e+01\n",
      " 1.720000e+02 6.100000e+01 6.600000e+01 6.400000e+01 3.660000e+02\n",
      " 3.600000e+02 1.850000e+02 1.840000e+02 1.210000e+02 7.100000e+01\n",
      " 7.600000e+01 7.800000e+01 7.700000e+01 7.500000e+01 1.450000e+02\n",
      " 6.800000e+01 7.900000e+01 9.600000e+01 9.300000e+01 1.410000e+02\n",
      " 9.000000e+01 1.000000e+01 5.400000e+01 3.600000e+01 1.020000e+02\n",
      " 2.600000e+01 3.100000e+01 3.200000e+01 2.094000e+03 1.831000e+03\n",
      " 2.050000e+02 1.930000e+02 7.300000e+01 9.800000e+01 1.180000e+02\n",
      " 3.300000e+01 8.600000e+01 8.500000e+01 1.300000e+01 1.990000e+02\n",
      " 2.178484e+06 2.090000e+02 3.890000e+02 4.470000e+02 4.000000e+02\n",
      " 2.220000e+02 2.010000e+02 1.970000e+02]\n"
     ]
    }
   ],
   "source": [
    "# Save unique values:\n",
    "request_unique_times = request_durations_series.unique()\n",
    "request_history_unique_times = request_history_durations_series.unique()\n",
    "\n",
    "print('[Request] unique time values: ')\n",
    "print(request_unique_times)\n",
    "print('\\n[Request_History] unique time values: ')\n",
    "print(request_history_unique_times)"
   ]
  },
  {
   "cell_type": "code",
   "execution_count": 24,
   "metadata": {},
   "outputs": [
    {
     "data": {
      "text/plain": [
       "1.0      95\n",
       "NaN      60\n",
       "0.0      54\n",
       "3.0      29\n",
       "2.0      22\n",
       "5.0      19\n",
       "4.0      15\n",
       "9.0      15\n",
       "6.0       7\n",
       "8.0       5\n",
       "7.0       4\n",
       "12.0      4\n",
       "11.0      2\n",
       "24.0      2\n",
       "13.0      2\n",
       "180.0     1\n",
       "27.0      1\n",
       "31.0      1\n",
       "984.0     1\n",
       "20.0      1\n",
       "187.0     1\n",
       "Name: StartEndDiffSeconds, dtype: int64"
      ]
     },
     "execution_count": 24,
     "metadata": {},
     "output_type": "execute_result"
    }
   ],
   "source": [
    "request_time_freq = request_durations_series.value_counts(dropna=False)\n",
    "request_time_freq"
   ]
  },
  {
   "cell_type": "code",
   "execution_count": 31,
   "metadata": {},
   "outputs": [
    {
     "data": {
      "text/plain": [
       "True"
      ]
     },
     "execution_count": 31,
     "metadata": {},
     "output_type": "execute_result"
    }
   ],
   "source": [
    "type(request_time_freq) is pd.Series"
   ]
  },
  {
   "cell_type": "code",
   "execution_count": 25,
   "metadata": {},
   "outputs": [
    {
     "data": {
      "text/plain": [
       "<matplotlib.axes._subplots.AxesSubplot at 0xe646ed0>"
      ]
     },
     "execution_count": 25,
     "metadata": {},
     "output_type": "execute_result"
    },
    {
     "data": {
      "image/png": "[encoded data removed]",
      "text/plain": [
       "<Figure size 720x720 with 1 Axes>"
      ]
     },
     "metadata": {
      "needs_background": "light"
     },
     "output_type": "display_data"
    }
   ],
   "source": [
    "request_time_freq.plot.bar(figsize=(10,10))"
   ]
  },
  {
   "cell_type": "code",
   "execution_count": 26,
   "metadata": {},
   "outputs": [],
   "source": [
    "# request_time_freq.hist(figsize=(10,30), bins=[1,2,3,4,5,6,7,8,9,10,15,20,30,40,50,60,70,80,90,100,150,200])"
   ]
  },
  {
   "cell_type": "code",
   "execution_count": 27,
   "metadata": {},
   "outputs": [
    {
     "data": {
      "text/plain": [
       "0.0          4964\n",
       "1.0          1976\n",
       "5.0           134\n",
       "NaN            67\n",
       "2.0            49\n",
       "             ... \n",
       "389.0           1\n",
       "2094.0          1\n",
       "2178484.0       1\n",
       "652.0           1\n",
       "611.0           1\n",
       "Name: StartEndDiffSeconds, Length: 93, dtype: int64"
      ]
     },
     "execution_count": 27,
     "metadata": {},
     "output_type": "execute_result"
    }
   ],
   "source": [
    "request_history_time_freq = request_history_durations_series.value_counts(dropna=False)\n",
    "request_history_time_freq"
   ]
  },
  {
   "cell_type": "markdown",
   "metadata": {},
   "source": [
    "#### Try Astropy histrograms on large, non-normalized data set"
   ]
  },
  {
   "cell_type": "code",
   "execution_count": 83,
   "metadata": {},
   "outputs": [],
   "source": [
    "import astropy.visualization as astv, astropy.stats as asts, scipy, numpy as np"
   ]
  },
  {
   "cell_type": "code",
   "execution_count": null,
   "metadata": {},
   "outputs": [],
   "source": [
    "# On all data (request_history_durations_series):\n",
    "request_history_durations_arr = pd.Series.to_numpy(request_history_durations_series)\n",
    "print(request_history_durations_arr)\n",
    "astv.hist(request_history_durations_arr, bins='blocks')"
   ]
  },
  {
   "cell_type": "code",
   "execution_count": null,
   "metadata": {},
   "outputs": [],
   "source": [
    "request_history_time_freq_arr = pd.Series.to_numpy(request_history_time_freq)\n",
    "print(request_history_durations_arr)\n",
    "astv.hist(request_history_time_freq_arr, bins='blocks')"
   ]
  },
  {
   "cell_type": "code",
   "execution_count": 96,
   "metadata": {},
   "outputs": [
    {
     "name": "stdout",
     "output_type": "stream",
     "text": [
      "[      0.   217848.4  435696.8  653545.2  871393.6 1089242.  1307090.4\n",
      " 1524938.8 1742787.2 1960635.6 2178484. ]\n"
     ]
    }
   ],
   "source": [
    "# request_history_durations_arr = pd.Series.to_numpy(request_history_durations_series.T)\n",
    "# print(request_history_durations_arr)\n",
    "# request_history_time_freq_arr = pd.Series.to_numpy(request_history_time_freq)\n",
    "# bins = asts.bayesian_blocks(request_history_durations_arr)\n",
    "count, div = np.histogram(request_history_durations.dropna())\n",
    "print(div)"
   ]
  },
  {
   "cell_type": "code",
   "execution_count": 97,
   "metadata": {},
   "outputs": [
    {
     "data": {
      "text/plain": [
       "array([[<matplotlib.axes._subplots.AxesSubplot object at 0x214B82B0>]],\n",
       "      dtype=object)"
      ]
     },
     "execution_count": 97,
     "metadata": {},
     "output_type": "execute_result"
    },
    {
     "data": {
      "image/png": "[encoded data removed]",
      "text/plain": [
       "<Figure size 1440x1440 with 1 Axes>"
      ]
     },
     "metadata": {
      "needs_background": "light"
     },
     "output_type": "display_data"
    }
   ],
   "source": [
    "request_history_durations.dropna().hist(bins=div, figsize=(20,20))"
   ]
  },
  {
   "cell_type": "code",
   "execution_count": 77,
   "metadata": {},
   "outputs": [
    {
     "data": {
      "text/plain": [
       "<matplotlib.axes._subplots.AxesSubplot at 0x21302b90>"
      ]
     },
     "execution_count": 77,
     "metadata": {},
     "output_type": "execute_result"
    },
    {
     "data": {
      "image/png": "[encoded data removed]",
      "text/plain": [
       "<Figure size 1440x1440 with 1 Axes>"
      ]
     },
     "metadata": {
      "needs_background": "light"
     },
     "output_type": "display_data"
    }
   ],
   "source": [
    "request_history_time_freq.hist(bins=bins, figsize=(20,20))"
   ]
  },
  {
   "cell_type": "code",
   "execution_count": null,
   "metadata": {},
   "outputs": [],
   "source": []
  },
  {
   "cell_type": "code",
   "execution_count": null,
   "metadata": {},
   "outputs": [],
   "source": [
    "request_history_durations.plot.hist(figsize=(20,20), bins=[-1,100,200,20000000])"
   ]
  },
  {
   "cell_type": "code",
   "execution_count": null,
   "metadata": {},
   "outputs": [],
   "source": [
    "request_history_time_freq.plot.bar(figsize=(20,100))"
   ]
  }
 ],
 "metadata": {
  "kernelspec": {
   "display_name": "Python 3",
   "language": "python",
   "name": "python3"
  },
  "language_info": {
   "codemirror_mode": {
    "name": "ipython",
    "version": 3
   },
   "file_extension": ".py",
   "mimetype": "text/x-python",
   "name": "python",
   "nbconvert_exporter": "python",
   "pygments_lexer": "ipython3",
   "version": "3.7.4"
  }
 },
 "nbformat": 4,
 "nbformat_minor": 4
}
