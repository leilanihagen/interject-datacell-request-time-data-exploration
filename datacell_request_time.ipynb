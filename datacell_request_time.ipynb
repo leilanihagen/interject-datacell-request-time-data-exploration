{
 "cells": [
  {
   "cell_type": "markdown",
   "metadata": {},
   "source": [
    "## Setting Up"
   ]
  },
  {
   "cell_type": "code",
   "execution_count": 1,
   "metadata": {},
   "outputs": [],
   "source": [
    "# Turn on inline display of plots in the notebook. (We should work on a more\n",
    "# portable solution such as saving th plots to files down the road.)\n",
    "%matplotlib inline"
   ]
  },
  {
   "cell_type": "code",
   "execution_count": 2,
   "metadata": {},
   "outputs": [],
   "source": [
    "import pyodbc"
   ]
  },
  {
   "cell_type": "code",
   "execution_count": 3,
   "metadata": {},
   "outputs": [],
   "source": [
    "# Connect via Windows authentication:\n",
    "# conn_specs = ('DRIVER={ODBC Driver 17 for SQL Server};'\n",
    "#                                     + 'SERVER=scotty-test;'\n",
    "#                                     + 'DATABASE=Interject_Reporting;'\n",
    "#                                    + 'trusted_connection=yes;')\n",
    "# conn_str = 'mssql+pyodbc:///?odbc_connect={}'.format(conn_specs)\n",
    "# engine = sqla.create_engine(conn_str)\n",
    "\n",
    "# Define a function that we can use to connect to a db on the fly:\n",
    "def pyodbc_connect_scotty_test(db_name):\n",
    "    try:\n",
    "        connection = pyodbc.connect('DRIVER={ODBC Driver 17 for SQL Server};'\n",
    "                                        + 'SERVER=scotty-test;'\n",
    "                                        + 'DATABASE=' + db_name + ';'\n",
    "                                       + 'trusted_connection=yes;')\n",
    "        return connection\n",
    "    except:\n",
    "        return 1 # could not connect"
   ]
  },
  {
   "cell_type": "code",
   "execution_count": 4,
   "metadata": {},
   "outputs": [],
   "source": [
    "import pandas as pd"
   ]
  },
  {
   "cell_type": "code",
   "execution_count": 17,
   "metadata": {},
   "outputs": [],
   "source": [
    "# Connect to [Interject_Reporting]:\n",
    "# intj_reporting_df = pd.read_sql('[DataCells].[Request]', engine)\n",
    "\n",
    "reporting_conn = pyodbc_connect_scotty_test('Interject_Reporting')"
   ]
  },
  {
   "cell_type": "code",
   "execution_count": 18,
   "metadata": {},
   "outputs": [],
   "source": [
    "# Create a cursor to run straight SQL queries:\n",
    "# reporting_cursor = reporting_conn.cursor()"
   ]
  },
  {
   "cell_type": "code",
   "execution_count": 19,
   "metadata": {
    "slideshow": {
     "slide_type": "notes"
    }
   },
   "outputs": [],
   "source": [
    "# Load [DataCells].[Request] and [DataCells].[Request_History] into DataFrames:\n",
    "request = 'SELECT * FROM [DataCells].[Request]'  # Don't need * here...\n",
    "request_history = 'SELECT * FROM [DataCells].[Request_History]'\n",
    "request_df = pd.read_sql(request, reporting_conn) # So we don't need SQLalchemy...\n",
    "request_history_df = pd.read_sql(request_history, reporting_conn) # So we don't need SQLalchemy..."
   ]
  },
  {
   "cell_type": "markdown",
   "metadata": {},
   "source": [
    "## Visualizing DurationSeconds"
   ]
  },
  {
   "cell_type": "markdown",
   "metadata": {},
   "source": [
    "[DataCells].[DurationSeconds] includes negative values for some reason... their absolute values are accurate, but just have a - in front of them..."
   ]
  },
  {
   "cell_type": "code",
   "execution_count": 7,
   "metadata": {},
   "outputs": [
    {
     "data": {
      "text/plain": [
       "count    281.000000\n",
       "mean       5.039146\n",
       "std       60.829051\n",
       "min      -10.000000\n",
       "25%       -2.000000\n",
       "50%       -1.000000\n",
       "75%        0.000000\n",
       "max      984.000000\n",
       "Name: DurationSeconds, dtype: float64"
      ]
     },
     "execution_count": 7,
     "metadata": {},
     "output_type": "execute_result"
    }
   ],
   "source": [
    "request_df['DurationSeconds'].describe()"
   ]
  },
  {
   "cell_type": "code",
   "execution_count": 20,
   "metadata": {},
   "outputs": [
    {
     "data": {
      "text/plain": [
       "array([[<matplotlib.axes._subplots.AxesSubplot object at 0x094EB9D0>]],\n",
       "      dtype=object)"
      ]
     },
     "execution_count": 20,
     "metadata": {},
     "output_type": "execute_result"
    },
    {
     "data": {
      "image/png": "[encoded data removed]",
      "text/plain": [
       "<Figure size 432x288 with 1 Axes>"
      ]
     },
     "metadata": {
      "needs_background": "light"
     },
     "output_type": "display_data"
    }
   ],
   "source": [
    "# Histogram of DurationSeconds:\n",
    "request_df.hist(column='DurationSeconds')"
   ]
  },
  {
   "cell_type": "markdown",
   "metadata": {},
   "source": [
    "## Visualizing request time durations manually (StartTimeStamp - EndTimeStamp)"
   ]
  },
  {
   "cell_type": "markdown",
   "metadata": {},
   "source": [
    "Create a pd series that is ( StartTimeStamp - EndTimeStamp ). Doing this to resolve the negative DurationSeconds values reported above..."
   ]
  },
  {
   "cell_type": "markdown",
   "metadata": {},
   "source": [
    "#### Setting Up"
   ]
  },
  {
   "cell_type": "code",
   "execution_count": 21,
   "metadata": {},
   "outputs": [],
   "source": [
    "# Define a function that we can use with both [DataCells].[Request] and .[Request_History]\n",
    "def get_request_time_durations(table_name):\n",
    "    start_end_diff = 'SELECT datediff(second, [StartTimeStamp], [EndTimeStamp]) as StartEndDiffSeconds FROM [DataCells].[' + table_name + ']'\n",
    "    return( pd.read_sql(start_end_diff, reporting_conn) )\n",
    "\n",
    "    # # Do it with a cursor:\n",
    "    # reporting_cursor.execute(start_end_diff_sql)\n",
    "    # request_durations = pd.Series(reporting_cursor.fetchall())"
   ]
  },
  {
   "cell_type": "code",
   "execution_count": 12,
   "metadata": {},
   "outputs": [],
   "source": [
    "request_durations = get_request_time_durations('Request')\n",
    "request_history_durations = get_request_time_durations('Request_History')"
   ]
  },
  {
   "cell_type": "markdown",
   "metadata": {},
   "source": [
    "#### Get some initial counts"
   ]
  },
  {
   "cell_type": "markdown",
   "metadata": {},
   "source": [
    "How many data do we have for request durations in [Request] and [Request_History]?"
   ]
  },
  {
   "cell_type": "code",
   "execution_count": 13,
   "metadata": {},
   "outputs": [
    {
     "data": {
      "text/plain": [
       "StartEndDiffSeconds    281\n",
       "dtype: int64"
      ]
     },
     "execution_count": 13,
     "metadata": {},
     "output_type": "execute_result"
    }
   ],
   "source": [
    "request_durations.count()"
   ]
  },
  {
   "cell_type": "code",
   "execution_count": 14,
   "metadata": {},
   "outputs": [
    {
     "data": {
      "text/plain": [
       "StartEndDiffSeconds    7417\n",
       "dtype: int64"
      ]
     },
     "execution_count": 14,
     "metadata": {},
     "output_type": "execute_result"
    }
   ],
   "source": [
    "request_history_durations.count()"
   ]
  },
  {
   "cell_type": "markdown",
   "metadata": {},
   "source": [
    "\n",
    "How many entries are NAN (not included in the previous counts)?"
   ]
  },
  {
   "cell_type": "code",
   "execution_count": 15,
   "metadata": {},
   "outputs": [
    {
     "data": {
      "text/plain": [
       "StartEndDiffSeconds    60\n",
       "dtype: int64"
      ]
     },
     "execution_count": 15,
     "metadata": {},
     "output_type": "execute_result"
    }
   ],
   "source": [
    "request_durations.isna().sum()"
   ]
  },
  {
   "cell_type": "code",
   "execution_count": 16,
   "metadata": {},
   "outputs": [
    {
     "data": {
      "text/plain": [
       "StartEndDiffSeconds    67\n",
       "dtype: int64"
      ]
     },
     "execution_count": 16,
     "metadata": {},
     "output_type": "execute_result"
    }
   ],
   "source": [
    "request_history_durations.isna().sum()"
   ]
  },
  {
   "cell_type": "markdown",
   "metadata": {},
   "source": [
    "#### Describe Duration Data"
   ]
  },
  {
   "cell_type": "code",
   "execution_count": 17,
   "metadata": {},
   "outputs": [
    {
     "data": {
      "text/html": [
       "<div>\n",
       "<style scoped>\n",
       "    .dataframe tbody tr th:only-of-type {\n",
       "        vertical-align: middle;\n",
       "    }\n",
       "\n",
       "    .dataframe tbody tr th {\n",
       "        vertical-align: top;\n",
       "    }\n",
       "\n",
       "    .dataframe thead th {\n",
       "        text-align: right;\n",
       "    }\n",
       "</style>\n",
       "<table border=\"1\" class=\"dataframe\">\n",
       "  <thead>\n",
       "    <tr style=\"text-align: right;\">\n",
       "      <th></th>\n",
       "      <th>StartEndDiffSeconds</th>\n",
       "    </tr>\n",
       "  </thead>\n",
       "  <tbody>\n",
       "    <tr>\n",
       "      <th>count</th>\n",
       "      <td>281.000000</td>\n",
       "    </tr>\n",
       "    <tr>\n",
       "      <th>mean</th>\n",
       "      <td>7.825623</td>\n",
       "    </tr>\n",
       "    <tr>\n",
       "      <th>std</th>\n",
       "      <td>60.532059</td>\n",
       "    </tr>\n",
       "    <tr>\n",
       "      <th>min</th>\n",
       "      <td>0.000000</td>\n",
       "    </tr>\n",
       "    <tr>\n",
       "      <th>25%</th>\n",
       "      <td>1.000000</td>\n",
       "    </tr>\n",
       "    <tr>\n",
       "      <th>50%</th>\n",
       "      <td>1.000000</td>\n",
       "    </tr>\n",
       "    <tr>\n",
       "      <th>75%</th>\n",
       "      <td>4.000000</td>\n",
       "    </tr>\n",
       "    <tr>\n",
       "      <th>max</th>\n",
       "      <td>984.000000</td>\n",
       "    </tr>\n",
       "  </tbody>\n",
       "</table>\n",
       "</div>"
      ],
      "text/plain": [
       "       StartEndDiffSeconds\n",
       "count           281.000000\n",
       "mean              7.825623\n",
       "std              60.532059\n",
       "min               0.000000\n",
       "25%               1.000000\n",
       "50%               1.000000\n",
       "75%               4.000000\n",
       "max             984.000000"
      ]
     },
     "execution_count": 17,
     "metadata": {},
     "output_type": "execute_result"
    }
   ],
   "source": [
    "request_durations.describe() "
   ]
  },
  {
   "cell_type": "code",
   "execution_count": 18,
   "metadata": {},
   "outputs": [
    {
     "data": {
      "text/html": [
       "<div>\n",
       "<style scoped>\n",
       "    .dataframe tbody tr th:only-of-type {\n",
       "        vertical-align: middle;\n",
       "    }\n",
       "\n",
       "    .dataframe tbody tr th {\n",
       "        vertical-align: top;\n",
       "    }\n",
       "\n",
       "    .dataframe thead th {\n",
       "        text-align: right;\n",
       "    }\n",
       "</style>\n",
       "<table border=\"1\" class=\"dataframe\">\n",
       "  <thead>\n",
       "    <tr style=\"text-align: right;\">\n",
       "      <th></th>\n",
       "      <th>StartEndDiffSeconds</th>\n",
       "    </tr>\n",
       "  </thead>\n",
       "  <tbody>\n",
       "    <tr>\n",
       "      <th>count</th>\n",
       "      <td>7.417000e+03</td>\n",
       "    </tr>\n",
       "    <tr>\n",
       "      <th>mean</th>\n",
       "      <td>3.146081e+02</td>\n",
       "    </tr>\n",
       "    <tr>\n",
       "      <th>std</th>\n",
       "      <td>2.532012e+04</td>\n",
       "    </tr>\n",
       "    <tr>\n",
       "      <th>min</th>\n",
       "      <td>0.000000e+00</td>\n",
       "    </tr>\n",
       "    <tr>\n",
       "      <th>25%</th>\n",
       "      <td>0.000000e+00</td>\n",
       "    </tr>\n",
       "    <tr>\n",
       "      <th>50%</th>\n",
       "      <td>0.000000e+00</td>\n",
       "    </tr>\n",
       "    <tr>\n",
       "      <th>75%</th>\n",
       "      <td>1.000000e+00</td>\n",
       "    </tr>\n",
       "    <tr>\n",
       "      <th>max</th>\n",
       "      <td>2.178484e+06</td>\n",
       "    </tr>\n",
       "  </tbody>\n",
       "</table>\n",
       "</div>"
      ],
      "text/plain": [
       "       StartEndDiffSeconds\n",
       "count         7.417000e+03\n",
       "mean          3.146081e+02\n",
       "std           2.532012e+04\n",
       "min           0.000000e+00\n",
       "25%           0.000000e+00\n",
       "50%           0.000000e+00\n",
       "75%           1.000000e+00\n",
       "max           2.178484e+06"
      ]
     },
     "execution_count": 18,
     "metadata": {},
     "output_type": "execute_result"
    }
   ],
   "source": [
    "request_history_durations.describe()"
   ]
  },
  {
   "cell_type": "markdown",
   "metadata": {},
   "source": [
    "#### Plot query run time distributions using pd.unique() and pd.value_counts()"
   ]
  },
  {
   "cell_type": "markdown",
   "metadata": {},
   "source": [
    "Find unique values and their frequencies, plot the distributions."
   ]
  },
  {
   "cell_type": "code",
   "execution_count": 23,
   "metadata": {},
   "outputs": [
    {
     "data": {
      "text/plain": [
       "(341, 1)"
      ]
     },
     "execution_count": 23,
     "metadata": {},
     "output_type": "execute_result"
    }
   ],
   "source": [
    "request_durations.shape"
   ]
  },
  {
   "cell_type": "code",
   "execution_count": 24,
   "metadata": {},
   "outputs": [
    {
     "data": {
      "text/plain": [
       "(1, 341)"
      ]
     },
     "execution_count": 24,
     "metadata": {},
     "output_type": "execute_result"
    }
   ],
   "source": [
    "request_durations.T.shape"
   ]
  },
  {
   "cell_type": "code",
   "execution_count": 25,
   "metadata": {},
   "outputs": [
    {
     "name": "stdout",
     "output_type": "stream",
     "text": [
      "(341,)\n",
      "(7484,)\n"
     ]
    },
    {
     "data": {
      "text/plain": [
       "True"
      ]
     },
     "execution_count": 25,
     "metadata": {},
     "output_type": "execute_result"
    }
   ],
   "source": [
    "# 1D-ify them (should become series'):\n",
    "request_durations_series = request_durations.squeeze()\n",
    "request_history_durations_series = request_history_durations.squeeze()\n",
    "print(request_durations_series.shape)\n",
    "print(request_history_durations_series.shape)\n",
    "\n",
    "type(request_durations_series) is pd.Series\n",
    "\n",
    "# Didn't work...\n",
    "# request_durations_arr = request_durations.values\n",
    "# request_durations_arr.shape\n",
    "# request_durations_series = pd.Series(request_durations_arr)"
   ]
  },
  {
   "cell_type": "code",
   "execution_count": 28,
   "metadata": {},
   "outputs": [
    {
     "name": "stdout",
     "output_type": "stream",
     "text": [
      "[Request] unique time values: \n",
      "[  0.  12.  13.   9.   8.   1.   5.  11.  31.  27. 187. 180.  nan  24.\n",
      " 984.  20.   2.   3.   4.   7.   6.]\n",
      "\n",
      "[Request_History] unique time values: \n",
      "[0.000000e+00 1.000000e+00 4.000000e+00 3.000000e+00 4.600000e+01\n",
      " 2.000000e+00 5.000000e+00          nan 8.000000e+00 6.000000e+00\n",
      " 7.000000e+00 1.800000e+01 1.700000e+01 6.200000e+01 7.200000e+01\n",
      " 1.100000e+01 1.980000e+02 2.000000e+01 1.600000e+01 1.900000e+01\n",
      " 2.300000e+01 9.485300e+04 4.920000e+02 1.500000e+01 1.400000e+01\n",
      " 1.200000e+01 9.000000e+00 4.000000e+01 2.200000e+01 2.100000e+01\n",
      " 1.028400e+04 1.067300e+04 1.057100e+04 7.866000e+03 6.110000e+02\n",
      " 6.090000e+02 6.390000e+02 6.520000e+02 2.400000e+01 3.130000e+02\n",
      " 2.700000e+01 2.900000e+01 2.500000e+01 6.300000e+01 6.000000e+01\n",
      " 1.720000e+02 6.100000e+01 6.600000e+01 6.400000e+01 3.660000e+02\n",
      " 3.600000e+02 1.850000e+02 1.840000e+02 1.210000e+02 7.100000e+01\n",
      " 7.600000e+01 7.800000e+01 7.700000e+01 7.500000e+01 1.450000e+02\n",
      " 6.800000e+01 7.900000e+01 9.600000e+01 9.300000e+01 1.410000e+02\n",
      " 9.000000e+01 1.000000e+01 5.400000e+01 3.600000e+01 1.020000e+02\n",
      " 2.600000e+01 3.100000e+01 3.200000e+01 2.094000e+03 1.831000e+03\n",
      " 2.050000e+02 1.930000e+02 7.300000e+01 9.800000e+01 1.180000e+02\n",
      " 3.300000e+01 8.600000e+01 8.500000e+01 1.300000e+01 1.990000e+02\n",
      " 2.178484e+06 2.090000e+02 3.890000e+02 4.470000e+02 4.000000e+02\n",
      " 2.220000e+02 2.010000e+02 1.970000e+02]\n"
     ]
    }
   ],
   "source": [
    "# Save unique values:\n",
    "request_unique_durs = request_durations_series.unique()\n",
    "request_history_unique_durs = request_history_durations_series.unique()\n",
    "\n",
    "print('[Request] unique time values: ')\n",
    "print(request_unique_durs)\n",
    "print('\\n[Request_History] unique time values: ')\n",
    "print(request_history_unique_durs)"
   ]
  },
  {
   "cell_type": "code",
   "execution_count": 30,
   "metadata": {},
   "outputs": [
    {
     "data": {
      "text/plain": [
       "1.0      95\n",
       "NaN      60\n",
       "0.0      54\n",
       "3.0      29\n",
       "2.0      22\n",
       "5.0      19\n",
       "4.0      15\n",
       "9.0      15\n",
       "6.0       7\n",
       "8.0       5\n",
       "7.0       4\n",
       "12.0      4\n",
       "11.0      2\n",
       "24.0      2\n",
       "13.0      2\n",
       "180.0     1\n",
       "27.0      1\n",
       "31.0      1\n",
       "984.0     1\n",
       "20.0      1\n",
       "187.0     1\n",
       "Name: StartEndDiffSeconds, dtype: int64"
      ]
     },
     "execution_count": 30,
     "metadata": {},
     "output_type": "execute_result"
    }
   ],
   "source": [
    "# Get the frequencies for each unique duration:\n",
    "request_dur_freq = request_durations_series.value_counts(dropna=False)\n",
    "request_dur_freq"
   ]
  },
  {
   "cell_type": "code",
   "execution_count": 52,
   "metadata": {},
   "outputs": [
    {
     "data": {
      "text/plain": [
       "True"
      ]
     },
     "execution_count": 52,
     "metadata": {},
     "output_type": "execute_result"
    }
   ],
   "source": [
    "type(request_dur_freq) is pd.Series"
   ]
  },
  {
   "cell_type": "code",
   "execution_count": 32,
   "metadata": {},
   "outputs": [
    {
     "data": {
      "text/plain": [
       "<matplotlib.axes._subplots.AxesSubplot at 0x4fbbd70>"
      ]
     },
     "execution_count": 32,
     "metadata": {},
     "output_type": "execute_result"
    },
    {
     "data": {
      "image/png": "[encoded data removed]",
      "text/plain": [
       "<Figure size 720x720 with 1 Axes>"
      ]
     },
     "metadata": {
      "needs_background": "light"
     },
     "output_type": "display_data"
    }
   ],
   "source": [
    "request_dur_freq.plot.bar(figsize=(10,10))"
   ]
  },
  {
   "cell_type": "code",
   "execution_count": 33,
   "metadata": {},
   "outputs": [],
   "source": [
    "# request_dur_freq.hist(figsize=(10,30), bins=[1,2,3,4,5,6,7,8,9,10,15,20,30,40,50,60,70,80,90,100,150,200])"
   ]
  },
  {
   "cell_type": "code",
   "execution_count": null,
   "metadata": {},
   "outputs": [],
   "source": [
    "request_history_dur_freq = request_history_durations_series.value_counts(dropna=False)\n",
    "request_history_dur_freq"
   ]
  },
  {
   "cell_type": "markdown",
   "metadata": {},
   "source": [
    "#### Try Astropy histrograms on large, non-normalized data set"
   ]
  },
  {
   "cell_type": "code",
   "execution_count": 36,
   "metadata": {},
   "outputs": [],
   "source": [
    "import astropy.visualization as astv, astropy.stats as asts, scipy, numpy as np"
   ]
  },
  {
   "cell_type": "code",
   "execution_count": null,
   "metadata": {},
   "outputs": [],
   "source": [
    "# On all data (request_history_durations_series):\n",
    "request_history_durs_arr = pd.Series.to_numpy(request_history_durations_series)\n",
    "print(request_history_durs_arr)\n",
    "astv.hist(request_history_durs_arr, bins='blocks')"
   ]
  },
  {
   "cell_type": "code",
   "execution_count": null,
   "metadata": {},
   "outputs": [],
   "source": [
    "request_history_freq_arr = pd.Series.to_numpy(request_history_dur_freq)\n",
    "print(request_history_durs_arr)\n",
    "astv.hist(request_history_freq_arr, bins='blocks')"
   ]
  },
  {
   "cell_type": "code",
   "execution_count": 39,
   "metadata": {},
   "outputs": [
    {
     "name": "stdout",
     "output_type": "stream",
     "text": [
      "[      0.   217848.4  435696.8  653545.2  871393.6 1089242.  1307090.4\n",
      " 1524938.8 1742787.2 1960635.6 2178484. ]\n"
     ]
    }
   ],
   "source": [
    "# request_history_durations_arr = pd.Series.to_numpy(request_history_durations_series.T)\n",
    "# print(request_history_durations_arr)\n",
    "# request_history_time_freq_arr = pd.Series.to_numpy(request_history_time_freq)\n",
    "# bins = asts.bayesian_blocks(request_history_durations_arr)\n",
    "count, div = np.histogram(request_history_durations.dropna())\n",
    "print(div)"
   ]
  },
  {
   "cell_type": "code",
   "execution_count": null,
   "metadata": {},
   "outputs": [],
   "source": [
    "request_history_durations.dropna().hist(bins=div, figsize=(20,20))"
   ]
  },
  {
   "cell_type": "code",
   "execution_count": null,
   "metadata": {},
   "outputs": [],
   "source": [
    "request_history_dur_freq.hist(bins=\"bins\", figsize=(20,20))"
   ]
  },
  {
   "cell_type": "code",
   "execution_count": null,
   "metadata": {},
   "outputs": [],
   "source": [
    "request_history_durations.plot.hist(figsize=(20,20), bins=[-1,100,200,20000000])"
   ]
  },
  {
   "cell_type": "code",
   "execution_count": null,
   "metadata": {},
   "outputs": [],
   "source": [
    "request_history_dur_freq.plot.bar(figsize=(20,100))"
   ]
  },
  {
   "cell_type": "markdown",
   "metadata": {},
   "source": [
    "## Vizualizing min/max request durations per week, by day"
   ]
  },
  {
   "cell_type": "code",
   "execution_count": 5,
   "metadata": {},
   "outputs": [],
   "source": [
    "import matplotlib.pyplot as plt\n",
    "import numpy as np"
   ]
  },
  {
   "cell_type": "code",
   "execution_count": 6,
   "metadata": {},
   "outputs": [],
   "source": [
    "reporting_conn_2 = pyodbc_connect_scotty_test('Interject_Reporting')"
   ]
  },
  {
   "cell_type": "code",
   "execution_count": 7,
   "metadata": {},
   "outputs": [],
   "source": [
    "# Select [EndTimeStamp] to mark the day, [Duration], from [Request] union with [Request_History] w/ SQL:\n",
    "from_req = 'SELECT [EndTimeStamp], datediff(second, [StartTimeStamp], [EndTimeStamp]) AS Duration FROM [DataCells].[Request]'\n",
    "union = ' UNION ALL'\n",
    "from_req_hist = ' SELECT [EndTimeStamp], datediff(second, [StartTimeStamp], [EndTimeStamp]) AS Duration FROM [DataCells].[Request_History]'\n",
    "request_all = from_req + union + from_req_hist\n",
    "all_requests_df = pd.read_sql(request_all, reporting_conn_2, index_col='EndTimeStamp')"
   ]
  },
  {
   "cell_type": "code",
   "execution_count": 8,
   "metadata": {},
   "outputs": [
    {
     "data": {
      "text/plain": [
       "True"
      ]
     },
     "execution_count": 8,
     "metadata": {},
     "output_type": "execute_result"
    }
   ],
   "source": [
    "type(all_requests_df) is pd.DataFrame"
   ]
  },
  {
   "cell_type": "code",
   "execution_count": 9,
   "metadata": {},
   "outputs": [
    {
     "data": {
      "text/plain": [
       "Duration    7698\n",
       "dtype: int64"
      ]
     },
     "execution_count": 9,
     "metadata": {},
     "output_type": "execute_result"
    }
   ],
   "source": [
    "all_requests_df.count() # excludes NANs"
   ]
  },
  {
   "cell_type": "code",
   "execution_count": 10,
   "metadata": {},
   "outputs": [
    {
     "data": {
      "text/plain": [
       "Duration    127\n",
       "dtype: int64"
      ]
     },
     "execution_count": 10,
     "metadata": {},
     "output_type": "execute_result"
    }
   ],
   "source": [
    "all_requests_df.isna().sum()"
   ]
  },
  {
   "cell_type": "code",
   "execution_count": 74,
   "metadata": {},
   "outputs": [
    {
     "data": {
      "text/plain": [
       "False"
      ]
     },
     "execution_count": 74,
     "metadata": {},
     "output_type": "execute_result"
    }
   ],
   "source": [
    "all_requests_s = all_requests_df.squeeze()\n",
    "type(all_requests_s) is pd.Series"
   ]
  },
  {
   "cell_type": "code",
   "execution_count": 166,
   "metadata": {},
   "outputs": [
    {
     "data": {
      "text/plain": [
       "RangeIndex(start=0, stop=7825, step=1)"
      ]
     },
     "execution_count": 166,
     "metadata": {},
     "output_type": "execute_result"
    }
   ],
   "source": [
    "all_requests_s.index"
   ]
  },
  {
   "cell_type": "code",
   "execution_count": 167,
   "metadata": {},
   "outputs": [],
   "source": [
    "# Note: Resampler objects are returned by .resample() calls. Will not work until set index to EndTimeStamp!\n",
    "# dur_by_day_resampler = all_requests_s.resample('D')\n",
    "# max_dur_by_day_resampler = all_requests_s.resample('D').max()"
   ]
  },
  {
   "cell_type": "code",
   "execution_count": null,
   "metadata": {},
   "outputs": [],
   "source": [
    "all_requests_s.count()"
   ]
  },
  {
   "cell_type": "markdown",
   "metadata": {},
   "source": [
    "#### Create new DataFrame with max request duration for day, + more"
   ]
  },
  {
   "cell_type": "code",
   "execution_count": null,
   "metadata": {},
   "outputs": [],
   "source": [
    "import datetime as dt\n",
    "\n",
    "all_requests_df['Year'] = all_requests_df.index.year\n",
    "all_requests_df['Month'] = all_requests_df.index.month\n",
    "all_requests_df['Week'] = all_requests_df.index.week\n",
    "all_requests_df['Day'] = all_requests_df.index.day\n",
    "all_requests_df\n",
    "\n",
    "# Create daily_max_request DF:\n",
    "daily_max_request = all_requests_df.resample('D').max()\n",
    "daily_max_request['Year'] = daily_max_request.index.year\n",
    "daily_max_request['Month'] = daily_max_request.index.month\n",
    "daily_max_request['Weekday'] = daily_max_request.index.weekday_name\n",
    "daily_max_request = daily_max_request.dropna()\n",
    "daily_max_request\n",
    "\n",
    "# week_groups = daily_max_request.groupby([pd.Grouper(freq='W'), 'Duration'])\n",
    "# weeks = pd.DataFrame()\n",
    "# for dur, week in week_groups:\n",
    "#     week_groups[week.dur] = week.values\n",
    "\n",
    "# all_requests_df['day'] = all_requests_df.index.day\n",
    "# all_requests_df['week'] = all_requests_df.index.week\n",
    "\n"
   ]
  },
  {
   "cell_type": "code",
   "execution_count": null,
   "metadata": {},
   "outputs": [],
   "source": [
    "# Create a DF for each month:\n",
    "\n",
    "def create_df_for_month(month_df, month_num): # Can python modify objects passed to it?\n",
    "    for i in range(len(all_requests_df['Month'])): # 'Month' to be more readable/explicit\n",
    "        if all_requests_df['Month'][i] = 1:\n",
    "            month_df['Month'][i] = "
   ]
  },
  {
   "cell_type": "markdown",
   "metadata": {},
   "source": [
    "#### Use newly formed data to plot request durations by day"
   ]
  },
  {
   "cell_type": "code",
   "execution_count": 195,
   "metadata": {},
   "outputs": [
    {
     "data": {
      "text/plain": [
       "<matplotlib.collections.PathCollection at 0xd270970>"
      ]
     },
     "execution_count": 195,
     "metadata": {},
     "output_type": "execute_result"
    },
    {
     "data": {
      "image/png": "[encoded data removed]",
      "text/plain": [
       "<Figure size 720x720 with 1 Axes>"
      ]
     },
     "metadata": {},
     "output_type": "display_data"
    }
   ],
   "source": [
    "fig, ax = plt.subplots(figsize=(10,10))\n",
    "ax.scatter(x=daily_max_request.weekday, y=daily_max_request.Duration)\n",
    "#ax.hist((daily_max_request.weekday))"
   ]
  },
  {
   "cell_type": "code",
   "execution_count": null,
   "metadata": {},
   "outputs": [],
   "source": [
    "fig, (ax1, ax2, ax3, ax4) = plt.subplots(nrows=4, ncols=1, figsize=(10,10))\n",
    "\n",
    "# Create the scatter plot for the first week:\n",
    "ax1.scatter(x=daily_max_request.weekday, y=daily_max_request.Duration)"
   ]
  },
  {
   "cell_type": "code",
   "execution_count": null,
   "metadata": {},
   "outputs": [],
   "source": [
    "# Use matplotlib object oriented approach to create a plot by day:\n",
    "\n",
    "# Remove index...\n",
    "\n",
    "request_days_arr = all_requests_df.day.values # Convert Series to nd array (transpose the matrix first)\n",
    "\n",
    "#print(all_requests_arr[0])  # Debugging\n",
    "# Convert Timestamp data (EndTimeStamp) to datetime:\n",
    "#for i in range(len(all_requests_arr[0])):\n",
    "#        all_requests_arr[0][i] = np.datetime64(all_requests_arr[0][i])\n",
    "       # all_requests_arr[0][i] = np.datetime64(all_requests_arr[0][i])\n",
    "#print(all_requests_arr[0])  # Debugging\n",
    "\n",
    "fig, ax = plt.subplots()\n",
    "ax.hist(all_requests_arr)"
   ]
  },
  {
   "cell_type": "code",
   "execution_count": 35,
   "metadata": {},
   "outputs": [
    {
     "name": "stdout",
     "output_type": "stream",
     "text": [
      "                EndTimeStamp  Duration\n",
      "0    2015-05-30 21:23:56.533       0.0\n",
      "1    2015-05-30 23:37:07.613      12.0\n",
      "2    2015-05-30 23:38:38.177      13.0\n",
      "3    2015-05-30 23:44:10.133       9.0\n",
      "4    2015-05-30 23:51:13.860       8.0\n",
      "...                      ...       ...\n",
      "7820 2015-05-21 22:32:06.490       0.0\n",
      "7821 2015-05-21 22:34:26.483       3.0\n",
      "7822 2015-05-21 22:38:02.443       1.0\n",
      "7823 2015-05-21 22:39:54.863       0.0\n",
      "7824 2015-05-21 22:40:57.597       0.0\n",
      "\n",
      "[7825 rows x 2 columns]\n",
      "[[Timestamp('2015-05-30 21:23:56.533000') 0.0]\n",
      " [Timestamp('2015-05-30 23:37:07.613000') 12.0]\n",
      " [Timestamp('2015-05-30 23:38:38.177000') 13.0]\n",
      " ...\n",
      " [Timestamp('2015-05-21 22:38:02.443000') 1.0]\n",
      " [Timestamp('2015-05-21 22:39:54.863000') 0.0]\n",
      " [Timestamp('2015-05-21 22:40:57.597000') 0.0]]\n"
     ]
    }
   ],
   "source": [
    "print(all_requests_df)\n",
    "print(durations_by_day)"
   ]
  },
  {
   "cell_type": "code",
   "execution_count": null,
   "metadata": {},
   "outputs": [],
   "source": [
    "weeks = pd.DataFrame()\n",
    "\n",
    "for day in durations_by_day.count():\n",
    "    weeks[i] = \n",
    "\n",
    "\n",
    "for index, max_dur in durations_by_day:\n",
    "    weeks[index] = max_dur.values\n",
    "weeks.plot(subplots=True, legend=False)\n",
    "plt.show()"
   ]
  },
  {
   "cell_type": "markdown",
   "metadata": {},
   "source": [
    "## Seaborn"
   ]
  },
  {
   "cell_type": "code",
   "execution_count": 13,
   "metadata": {},
   "outputs": [],
   "source": [
    "import seaborn as sns"
   ]
  },
  {
   "cell_type": "markdown",
   "metadata": {},
   "source": [
    "#### Daily max request durations by weekday"
   ]
  },
  {
   "cell_type": "code",
   "execution_count": 35,
   "metadata": {},
   "outputs": [
    {
     "data": {
      "text/plain": [
       "<seaborn.axisgrid.FacetGrid at 0x1862a70>"
      ]
     },
     "execution_count": 35,
     "metadata": {},
     "output_type": "execute_result"
    },
    {
     "data": {
      "image/png": "[encoded data removed]",
      "text/plain": [
       "<Figure size 720x720 with 1 Axes>"
      ]
     },
     "metadata": {},
     "output_type": "display_data"
    },
    {
     "data": {
      "image/png": "[encoded data removed]",
      "text/plain": [
       "<Figure size 424.1x360 with 1 Axes>"
      ]
     },
     "metadata": {},
     "output_type": "display_data"
    }
   ],
   "source": [
    "fig, ax = plt.subplots(figsize=(10,10))\n",
    "ax.set(yscale='log')\n",
    "sns.catplot(x='Weekday', y='Duration', hue='Year', data=daily_max_request, ax=ax)"
   ]
  },
  {
   "cell_type": "code",
   "execution_count": null,
   "metadata": {},
   "outputs": [],
   "source": []
  }
 ],
 "metadata": {
  "kernelspec": {
   "display_name": "Python 3",
   "language": "python",
   "name": "python3"
  },
  "language_info": {
   "codemirror_mode": {
    "name": "ipython",
    "version": 3
   },
   "file_extension": ".py",
   "mimetype": "text/x-python",
   "name": "python",
   "nbconvert_exporter": "python",
   "pygments_lexer": "ipython3",
   "version": "3.7.4"
  }
 },
 "nbformat": 4,
 "nbformat_minor": 4
}
