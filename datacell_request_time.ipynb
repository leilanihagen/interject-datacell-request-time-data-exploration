{
 "cells": [
  {
   "cell_type": "markdown",
   "metadata": {},
   "source": [
    "## Setting Up"
   ]
  },
  {
   "cell_type": "code",
   "execution_count": 1,
   "metadata": {},
   "outputs": [],
   "source": [
    "# Turn on inline display of plots in the notebook. (We should work on a more\n",
    "# portable solution such as saving th plots to files down the road.)\n",
    "%matplotlib inline"
   ]
  },
  {
   "cell_type": "code",
   "execution_count": 2,
   "metadata": {},
   "outputs": [],
   "source": [
    "import pyodbc"
   ]
  },
  {
   "cell_type": "markdown",
   "metadata": {},
   "source": [
    "#### Create a connection function"
   ]
  },
  {
   "cell_type": "code",
   "execution_count": 3,
   "metadata": {},
   "outputs": [],
   "source": [
    "# Connect via Windows authentication:\n",
    "# conn_specs = ('DRIVER={ODBC Driver 17 for SQL Server};'\n",
    "#                                     + 'SERVER=scotty-test;'\n",
    "#                                     + 'DATABASE=Interject_Reporting;'\n",
    "#                                    + 'trusted_connection=yes;')\n",
    "# conn_str = 'mssql+pyodbc:///?odbc_connect={}'.format(conn_specs)\n",
    "# engine = sqla.create_engine(conn_str)\n",
    "\n",
    "# Define a function that we can use to connect to a db on the fly:\n",
    "def pyodbc_connect_scotty_test(db_name):\n",
    "    try:\n",
    "        connection = pyodbc.connect('DRIVER={ODBC Driver 17 for SQL Server};'\n",
    "                                        + 'SERVER=scotty-test;'\n",
    "                                        + 'DATABASE=' + db_name + ';'\n",
    "                                       + 'trusted_connection=yes;') # Windows auth\n",
    "        return connection\n",
    "    except:\n",
    "        return 1 # could not connect"
   ]
  },
  {
   "cell_type": "code",
   "execution_count": 4,
   "metadata": {},
   "outputs": [],
   "source": [
    "import pandas as pd"
   ]
  },
  {
   "cell_type": "markdown",
   "metadata": {},
   "source": [
    "## Visualizing [DataCells].[DurationSeconds]"
   ]
  },
  {
   "cell_type": "code",
   "execution_count": 17,
   "metadata": {},
   "outputs": [],
   "source": [
    "# Connect to [Interject_Reporting]:\n",
    "# intj_reporting_df = pd.read_sql('[DataCells].[Request]', engine)\n",
    "\n",
    "reporting_conn = pyodbc_connect_scotty_test('Interject_Reporting')"
   ]
  },
  {
   "cell_type": "code",
   "execution_count": 18,
   "metadata": {},
   "outputs": [],
   "source": [
    "# Create a cursor to run straight SQL queries:\n",
    "# reporting_cursor = reporting_conn.cursor()"
   ]
  },
  {
   "cell_type": "code",
   "execution_count": 19,
   "metadata": {
    "slideshow": {
     "slide_type": "notes"
    }
   },
   "outputs": [],
   "source": [
    "# Load [DataCells].[Request] and [DataCells].[Request_History] into DataFrames:\n",
    "request = 'SELECT * FROM [DataCells].[Request]'  # Don't need * here...\n",
    "request_history = 'SELECT * FROM [DataCells].[Request_History]'\n",
    "request_df = pd.read_sql(request, reporting_conn) # So we don't need SQLalchemy...\n",
    "request_history_df = pd.read_sql(request_history, reporting_conn) # So we don't need SQLalchemy..."
   ]
  },
  {
   "cell_type": "markdown",
   "metadata": {},
   "source": [
    "[DataCells].[DurationSeconds] includes negative values for some reason... their absolute values are accurate, but just have a - in front of them..."
   ]
  },
  {
   "cell_type": "code",
   "execution_count": 7,
   "metadata": {},
   "outputs": [
    {
     "data": {
      "text/plain": [
       "count    281.000000\n",
       "mean       5.039146\n",
       "std       60.829051\n",
       "min      -10.000000\n",
       "25%       -2.000000\n",
       "50%       -1.000000\n",
       "75%        0.000000\n",
       "max      984.000000\n",
       "Name: DurationSeconds, dtype: float64"
      ]
     },
     "execution_count": 7,
     "metadata": {},
     "output_type": "execute_result"
    }
   ],
   "source": [
    "request_df['DurationSeconds'].describe()"
   ]
  },
  {
   "cell_type": "code",
   "execution_count": 20,
   "metadata": {},
   "outputs": [
    {
     "data": {
      "text/plain": [
       "array([[<matplotlib.axes._subplots.AxesSubplot object at 0x094EB9D0>]],\n",
       "      dtype=object)"
      ]
     },
     "execution_count": 20,
     "metadata": {},
     "output_type": "execute_result"
    },
    {
     "data": {
      "image/png": "[encoded data removed]",
      "text/plain": [
       "<Figure size 432x288 with 1 Axes>"
      ]
     },
     "metadata": {
      "needs_background": "light"
     },
     "output_type": "display_data"
    }
   ],
   "source": [
    "# Histogram of DurationSeconds:\n",
    "request_df.hist(column='DurationSeconds')"
   ]
  },
  {
   "cell_type": "markdown",
   "metadata": {},
   "source": [
    "## Visualizing request time durations manually (StartTimeStamp - EndTimeStamp)"
   ]
  },
  {
   "cell_type": "markdown",
   "metadata": {},
   "source": [
    "Create a pd series that is ( StartTimeStamp - EndTimeStamp ). Doing this to resolve the negative DurationSeconds values reported above..."
   ]
  },
  {
   "cell_type": "markdown",
   "metadata": {},
   "source": [
    "#### Setting Up"
   ]
  },
  {
   "cell_type": "code",
   "execution_count": 21,
   "metadata": {},
   "outputs": [],
   "source": [
    "# Define a function that we can use with both [DataCells].[Request] and .[Request_History]\n",
    "def get_request_time_durations(table_name):\n",
    "    start_end_diff = 'SELECT datediff(second, [StartTimeStamp], [EndTimeStamp]) as StartEndDiffSeconds FROM [DataCells].[' + table_name + ']'\n",
    "    return( pd.read_sql(start_end_diff, reporting_conn) )\n",
    "\n",
    "    # # Do it with a cursor:\n",
    "    # reporting_cursor.execute(start_end_diff_sql)\n",
    "    # request_durations = pd.Series(reporting_cursor.fetchall())"
   ]
  },
  {
   "cell_type": "code",
   "execution_count": 12,
   "metadata": {},
   "outputs": [],
   "source": [
    "request_durations = get_request_time_durations('Request')\n",
    "request_history_durations = get_request_time_durations('Request_History')"
   ]
  },
  {
   "cell_type": "markdown",
   "metadata": {},
   "source": [
    "#### Get some initial counts"
   ]
  },
  {
   "cell_type": "markdown",
   "metadata": {},
   "source": [
    "How many data do we have for request durations in [Request] and [Request_History]?"
   ]
  },
  {
   "cell_type": "code",
   "execution_count": 13,
   "metadata": {},
   "outputs": [
    {
     "data": {
      "text/plain": [
       "StartEndDiffSeconds    281\n",
       "dtype: int64"
      ]
     },
     "execution_count": 13,
     "metadata": {},
     "output_type": "execute_result"
    }
   ],
   "source": [
    "request_durations.count()"
   ]
  },
  {
   "cell_type": "code",
   "execution_count": 14,
   "metadata": {},
   "outputs": [
    {
     "data": {
      "text/plain": [
       "StartEndDiffSeconds    7417\n",
       "dtype: int64"
      ]
     },
     "execution_count": 14,
     "metadata": {},
     "output_type": "execute_result"
    }
   ],
   "source": [
    "request_history_durations.count()"
   ]
  },
  {
   "cell_type": "markdown",
   "metadata": {},
   "source": [
    "\n",
    "How many entries are NAN (not included in the previous counts)?"
   ]
  },
  {
   "cell_type": "code",
   "execution_count": 15,
   "metadata": {},
   "outputs": [
    {
     "data": {
      "text/plain": [
       "StartEndDiffSeconds    60\n",
       "dtype: int64"
      ]
     },
     "execution_count": 15,
     "metadata": {},
     "output_type": "execute_result"
    }
   ],
   "source": [
    "request_durations.isna().sum()"
   ]
  },
  {
   "cell_type": "code",
   "execution_count": 16,
   "metadata": {},
   "outputs": [
    {
     "data": {
      "text/plain": [
       "StartEndDiffSeconds    67\n",
       "dtype: int64"
      ]
     },
     "execution_count": 16,
     "metadata": {},
     "output_type": "execute_result"
    }
   ],
   "source": [
    "request_history_durations.isna().sum()"
   ]
  },
  {
   "cell_type": "markdown",
   "metadata": {},
   "source": [
    "#### Describe Duration Data"
   ]
  },
  {
   "cell_type": "code",
   "execution_count": 17,
   "metadata": {},
   "outputs": [
    {
     "data": {
      "text/html": [
       "<div>\n",
       "<style scoped>\n",
       "    .dataframe tbody tr th:only-of-type {\n",
       "        vertical-align: middle;\n",
       "    }\n",
       "\n",
       "    .dataframe tbody tr th {\n",
       "        vertical-align: top;\n",
       "    }\n",
       "\n",
       "    .dataframe thead th {\n",
       "        text-align: right;\n",
       "    }\n",
       "</style>\n",
       "<table border=\"1\" class=\"dataframe\">\n",
       "  <thead>\n",
       "    <tr style=\"text-align: right;\">\n",
       "      <th></th>\n",
       "      <th>StartEndDiffSeconds</th>\n",
       "    </tr>\n",
       "  </thead>\n",
       "  <tbody>\n",
       "    <tr>\n",
       "      <th>count</th>\n",
       "      <td>281.000000</td>\n",
       "    </tr>\n",
       "    <tr>\n",
       "      <th>mean</th>\n",
       "      <td>7.825623</td>\n",
       "    </tr>\n",
       "    <tr>\n",
       "      <th>std</th>\n",
       "      <td>60.532059</td>\n",
       "    </tr>\n",
       "    <tr>\n",
       "      <th>min</th>\n",
       "      <td>0.000000</td>\n",
       "    </tr>\n",
       "    <tr>\n",
       "      <th>25%</th>\n",
       "      <td>1.000000</td>\n",
       "    </tr>\n",
       "    <tr>\n",
       "      <th>50%</th>\n",
       "      <td>1.000000</td>\n",
       "    </tr>\n",
       "    <tr>\n",
       "      <th>75%</th>\n",
       "      <td>4.000000</td>\n",
       "    </tr>\n",
       "    <tr>\n",
       "      <th>max</th>\n",
       "      <td>984.000000</td>\n",
       "    </tr>\n",
       "  </tbody>\n",
       "</table>\n",
       "</div>"
      ],
      "text/plain": [
       "       StartEndDiffSeconds\n",
       "count           281.000000\n",
       "mean              7.825623\n",
       "std              60.532059\n",
       "min               0.000000\n",
       "25%               1.000000\n",
       "50%               1.000000\n",
       "75%               4.000000\n",
       "max             984.000000"
      ]
     },
     "execution_count": 17,
     "metadata": {},
     "output_type": "execute_result"
    }
   ],
   "source": [
    "request_durations.describe() "
   ]
  },
  {
   "cell_type": "code",
   "execution_count": 18,
   "metadata": {},
   "outputs": [
    {
     "data": {
      "text/html": [
       "<div>\n",
       "<style scoped>\n",
       "    .dataframe tbody tr th:only-of-type {\n",
       "        vertical-align: middle;\n",
       "    }\n",
       "\n",
       "    .dataframe tbody tr th {\n",
       "        vertical-align: top;\n",
       "    }\n",
       "\n",
       "    .dataframe thead th {\n",
       "        text-align: right;\n",
       "    }\n",
       "</style>\n",
       "<table border=\"1\" class=\"dataframe\">\n",
       "  <thead>\n",
       "    <tr style=\"text-align: right;\">\n",
       "      <th></th>\n",
       "      <th>StartEndDiffSeconds</th>\n",
       "    </tr>\n",
       "  </thead>\n",
       "  <tbody>\n",
       "    <tr>\n",
       "      <th>count</th>\n",
       "      <td>7.417000e+03</td>\n",
       "    </tr>\n",
       "    <tr>\n",
       "      <th>mean</th>\n",
       "      <td>3.146081e+02</td>\n",
       "    </tr>\n",
       "    <tr>\n",
       "      <th>std</th>\n",
       "      <td>2.532012e+04</td>\n",
       "    </tr>\n",
       "    <tr>\n",
       "      <th>min</th>\n",
       "      <td>0.000000e+00</td>\n",
       "    </tr>\n",
       "    <tr>\n",
       "      <th>25%</th>\n",
       "      <td>0.000000e+00</td>\n",
       "    </tr>\n",
       "    <tr>\n",
       "      <th>50%</th>\n",
       "      <td>0.000000e+00</td>\n",
       "    </tr>\n",
       "    <tr>\n",
       "      <th>75%</th>\n",
       "      <td>1.000000e+00</td>\n",
       "    </tr>\n",
       "    <tr>\n",
       "      <th>max</th>\n",
       "      <td>2.178484e+06</td>\n",
       "    </tr>\n",
       "  </tbody>\n",
       "</table>\n",
       "</div>"
      ],
      "text/plain": [
       "       StartEndDiffSeconds\n",
       "count         7.417000e+03\n",
       "mean          3.146081e+02\n",
       "std           2.532012e+04\n",
       "min           0.000000e+00\n",
       "25%           0.000000e+00\n",
       "50%           0.000000e+00\n",
       "75%           1.000000e+00\n",
       "max           2.178484e+06"
      ]
     },
     "execution_count": 18,
     "metadata": {},
     "output_type": "execute_result"
    }
   ],
   "source": [
    "request_history_durations.describe()"
   ]
  },
  {
   "cell_type": "markdown",
   "metadata": {},
   "source": [
    "#### Plot query run time distributions using pd.unique() and pd.value_counts()"
   ]
  },
  {
   "cell_type": "markdown",
   "metadata": {},
   "source": [
    "Find unique values and their frequencies, plot the distributions."
   ]
  },
  {
   "cell_type": "code",
   "execution_count": 23,
   "metadata": {},
   "outputs": [
    {
     "data": {
      "text/plain": [
       "(341, 1)"
      ]
     },
     "execution_count": 23,
     "metadata": {},
     "output_type": "execute_result"
    }
   ],
   "source": [
    "request_durations.shape"
   ]
  },
  {
   "cell_type": "code",
   "execution_count": 24,
   "metadata": {},
   "outputs": [
    {
     "data": {
      "text/plain": [
       "(1, 341)"
      ]
     },
     "execution_count": 24,
     "metadata": {},
     "output_type": "execute_result"
    }
   ],
   "source": [
    "request_durations.T.shape"
   ]
  },
  {
   "cell_type": "code",
   "execution_count": 25,
   "metadata": {},
   "outputs": [
    {
     "name": "stdout",
     "output_type": "stream",
     "text": [
      "(341,)\n",
      "(7484,)\n"
     ]
    },
    {
     "data": {
      "text/plain": [
       "True"
      ]
     },
     "execution_count": 25,
     "metadata": {},
     "output_type": "execute_result"
    }
   ],
   "source": [
    "# 1D-ify them (should become series'):\n",
    "request_durations_series = request_durations.squeeze()\n",
    "request_history_durations_series = request_history_durations.squeeze()\n",
    "print(request_durations_series.shape)\n",
    "print(request_history_durations_series.shape)\n",
    "\n",
    "type(request_durations_series) is pd.Series\n",
    "\n",
    "# Didn't work...\n",
    "# request_durations_arr = request_durations.values\n",
    "# request_durations_arr.shape\n",
    "# request_durations_series = pd.Series(request_durations_arr)"
   ]
  },
  {
   "cell_type": "code",
   "execution_count": 28,
   "metadata": {},
   "outputs": [
    {
     "name": "stdout",
     "output_type": "stream",
     "text": [
      "[Request] unique time values: \n",
      "[  0.  12.  13.   9.   8.   1.   5.  11.  31.  27. 187. 180.  nan  24.\n",
      " 984.  20.   2.   3.   4.   7.   6.]\n",
      "\n",
      "[Request_History] unique time values: \n",
      "[0.000000e+00 1.000000e+00 4.000000e+00 3.000000e+00 4.600000e+01\n",
      " 2.000000e+00 5.000000e+00          nan 8.000000e+00 6.000000e+00\n",
      " 7.000000e+00 1.800000e+01 1.700000e+01 6.200000e+01 7.200000e+01\n",
      " 1.100000e+01 1.980000e+02 2.000000e+01 1.600000e+01 1.900000e+01\n",
      " 2.300000e+01 9.485300e+04 4.920000e+02 1.500000e+01 1.400000e+01\n",
      " 1.200000e+01 9.000000e+00 4.000000e+01 2.200000e+01 2.100000e+01\n",
      " 1.028400e+04 1.067300e+04 1.057100e+04 7.866000e+03 6.110000e+02\n",
      " 6.090000e+02 6.390000e+02 6.520000e+02 2.400000e+01 3.130000e+02\n",
      " 2.700000e+01 2.900000e+01 2.500000e+01 6.300000e+01 6.000000e+01\n",
      " 1.720000e+02 6.100000e+01 6.600000e+01 6.400000e+01 3.660000e+02\n",
      " 3.600000e+02 1.850000e+02 1.840000e+02 1.210000e+02 7.100000e+01\n",
      " 7.600000e+01 7.800000e+01 7.700000e+01 7.500000e+01 1.450000e+02\n",
      " 6.800000e+01 7.900000e+01 9.600000e+01 9.300000e+01 1.410000e+02\n",
      " 9.000000e+01 1.000000e+01 5.400000e+01 3.600000e+01 1.020000e+02\n",
      " 2.600000e+01 3.100000e+01 3.200000e+01 2.094000e+03 1.831000e+03\n",
      " 2.050000e+02 1.930000e+02 7.300000e+01 9.800000e+01 1.180000e+02\n",
      " 3.300000e+01 8.600000e+01 8.500000e+01 1.300000e+01 1.990000e+02\n",
      " 2.178484e+06 2.090000e+02 3.890000e+02 4.470000e+02 4.000000e+02\n",
      " 2.220000e+02 2.010000e+02 1.970000e+02]\n"
     ]
    }
   ],
   "source": [
    "# Save unique values:\n",
    "request_unique_durs = request_durations_series.unique()\n",
    "request_history_unique_durs = request_history_durations_series.unique()\n",
    "\n",
    "print('[Request] unique time values: ')\n",
    "print(request_unique_durs)\n",
    "print('\\n[Request_History] unique time values: ')\n",
    "print(request_history_unique_durs)"
   ]
  },
  {
   "cell_type": "code",
   "execution_count": 30,
   "metadata": {},
   "outputs": [
    {
     "data": {
      "text/plain": [
       "1.0      95\n",
       "NaN      60\n",
       "0.0      54\n",
       "3.0      29\n",
       "2.0      22\n",
       "5.0      19\n",
       "4.0      15\n",
       "9.0      15\n",
       "6.0       7\n",
       "8.0       5\n",
       "7.0       4\n",
       "12.0      4\n",
       "11.0      2\n",
       "24.0      2\n",
       "13.0      2\n",
       "180.0     1\n",
       "27.0      1\n",
       "31.0      1\n",
       "984.0     1\n",
       "20.0      1\n",
       "187.0     1\n",
       "Name: StartEndDiffSeconds, dtype: int64"
      ]
     },
     "execution_count": 30,
     "metadata": {},
     "output_type": "execute_result"
    }
   ],
   "source": [
    "# Get the frequencies for each unique duration:\n",
    "request_dur_freq = request_durations_series.value_counts(dropna=False)\n",
    "request_dur_freq"
   ]
  },
  {
   "cell_type": "code",
   "execution_count": 52,
   "metadata": {},
   "outputs": [
    {
     "data": {
      "text/plain": [
       "True"
      ]
     },
     "execution_count": 52,
     "metadata": {},
     "output_type": "execute_result"
    }
   ],
   "source": [
    "type(request_dur_freq) is pd.Series"
   ]
  },
  {
   "cell_type": "code",
   "execution_count": 32,
   "metadata": {},
   "outputs": [
    {
     "data": {
      "text/plain": [
       "<matplotlib.axes._subplots.AxesSubplot at 0x4fbbd70>"
      ]
     },
     "execution_count": 32,
     "metadata": {},
     "output_type": "execute_result"
    },
    {
     "data": {
      "image/png": "[encoded data removed]",
      "text/plain": [
       "<Figure size 720x720 with 1 Axes>"
      ]
     },
     "metadata": {
      "needs_background": "light"
     },
     "output_type": "display_data"
    }
   ],
   "source": [
    "request_dur_freq.plot.bar(figsize=(10,10))"
   ]
  },
  {
   "cell_type": "code",
   "execution_count": 33,
   "metadata": {},
   "outputs": [],
   "source": [
    "# request_dur_freq.hist(figsize=(10,30), bins=[1,2,3,4,5,6,7,8,9,10,15,20,30,40,50,60,70,80,90,100,150,200])"
   ]
  },
  {
   "cell_type": "code",
   "execution_count": null,
   "metadata": {},
   "outputs": [],
   "source": [
    "request_history_dur_freq = request_history_durations_series.value_counts(dropna=False)\n",
    "request_history_dur_freq"
   ]
  },
  {
   "cell_type": "markdown",
   "metadata": {},
   "source": [
    "#### Try Astropy histrograms on large, non-normalized data set"
   ]
  },
  {
   "cell_type": "code",
   "execution_count": 36,
   "metadata": {},
   "outputs": [],
   "source": [
    "import astropy.visualization as astv, astropy.stats as asts, scipy, numpy as np"
   ]
  },
  {
   "cell_type": "code",
   "execution_count": null,
   "metadata": {},
   "outputs": [],
   "source": [
    "# On all data (request_history_durations_series):\n",
    "request_history_durs_arr = pd.Series.to_numpy(request_history_durations_series)\n",
    "print(request_history_durs_arr)\n",
    "astv.hist(request_history_durs_arr, bins='blocks')"
   ]
  },
  {
   "cell_type": "code",
   "execution_count": null,
   "metadata": {},
   "outputs": [],
   "source": [
    "request_history_freq_arr = pd.Series.to_numpy(request_history_dur_freq)\n",
    "print(request_history_durs_arr)\n",
    "astv.hist(request_history_freq_arr, bins='blocks')"
   ]
  },
  {
   "cell_type": "code",
   "execution_count": 39,
   "metadata": {},
   "outputs": [
    {
     "name": "stdout",
     "output_type": "stream",
     "text": [
      "[      0.   217848.4  435696.8  653545.2  871393.6 1089242.  1307090.4\n",
      " 1524938.8 1742787.2 1960635.6 2178484. ]\n"
     ]
    }
   ],
   "source": [
    "# request_history_durations_arr = pd.Series.to_numpy(request_history_durations_series.T)\n",
    "# print(request_history_durations_arr)\n",
    "# request_history_time_freq_arr = pd.Series.to_numpy(request_history_time_freq)\n",
    "# bins = asts.bayesian_blocks(request_history_durations_arr)\n",
    "count, div = np.histogram(request_history_durations.dropna())\n",
    "print(div)"
   ]
  },
  {
   "cell_type": "code",
   "execution_count": null,
   "metadata": {},
   "outputs": [],
   "source": [
    "request_history_durations.dropna().hist(bins=div, figsize=(20,20))"
   ]
  },
  {
   "cell_type": "code",
   "execution_count": null,
   "metadata": {},
   "outputs": [],
   "source": [
    "request_history_dur_freq.hist(bins=\"bins\", figsize=(20,20))"
   ]
  },
  {
   "cell_type": "code",
   "execution_count": null,
   "metadata": {},
   "outputs": [],
   "source": [
    "request_history_durations.plot.hist(figsize=(20,20), bins=[-1,100,200,20000000])"
   ]
  },
  {
   "cell_type": "code",
   "execution_count": null,
   "metadata": {},
   "outputs": [],
   "source": [
    "request_history_dur_freq.plot.bar(figsize=(20,100))"
   ]
  },
  {
   "cell_type": "markdown",
   "metadata": {},
   "source": [
    "## Prep data for vizualizing request durations as by occurance time"
   ]
  },
  {
   "cell_type": "code",
   "execution_count": 5,
   "metadata": {},
   "outputs": [],
   "source": [
    "import matplotlib.pyplot as plt\n",
    "import numpy as np"
   ]
  },
  {
   "cell_type": "markdown",
   "metadata": {},
   "source": [
    "#### Get the data"
   ]
  },
  {
   "cell_type": "code",
   "execution_count": 6,
   "metadata": {},
   "outputs": [],
   "source": [
    "reporting_conn_2 = pyodbc_connect_scotty_test('Interject_Reporting')"
   ]
  },
  {
   "cell_type": "code",
   "execution_count": 7,
   "metadata": {},
   "outputs": [],
   "source": [
    "# Select [EndTimeStamp] to mark the day, [Duration], from [Request] union with [Request_History] w/ SQL:\n",
    "from_req = 'SELECT [StartTimeStamp], datediff(second, [StartTimeStamp], [EndTimeStamp]) AS Duration FROM [DataCells].[Request]'\n",
    "union = ' UNION ALL'\n",
    "from_req_hist = ' SELECT [StartTimeStamp], datediff(second, [StartTimeStamp], [EndTimeStamp]) AS Duration FROM [DataCells].[Request_History]'\n",
    "sql = from_req + union + from_req_hist\n",
    "all_requests = pd.read_sql(sql, reporting_conn_2, index_col='StartTimeStamp')"
   ]
  },
  {
   "cell_type": "code",
   "execution_count": 8,
   "metadata": {},
   "outputs": [
    {
     "data": {
      "text/plain": [
       "True"
      ]
     },
     "execution_count": 8,
     "metadata": {},
     "output_type": "execute_result"
    }
   ],
   "source": [
    "type(all_requests) is pd.DataFrame"
   ]
  },
  {
   "cell_type": "markdown",
   "metadata": {},
   "source": [
    "#### Initial counts"
   ]
  },
  {
   "cell_type": "code",
   "execution_count": 9,
   "metadata": {},
   "outputs": [
    {
     "data": {
      "text/plain": [
       "Duration    7698\n",
       "dtype: int64"
      ]
     },
     "execution_count": 9,
     "metadata": {},
     "output_type": "execute_result"
    }
   ],
   "source": [
    "all_requests.count()"
   ]
  },
  {
   "cell_type": "code",
   "execution_count": 10,
   "metadata": {},
   "outputs": [
    {
     "data": {
      "text/plain": [
       "Duration    127\n",
       "dtype: int64"
      ]
     },
     "execution_count": 10,
     "metadata": {},
     "output_type": "execute_result"
    }
   ],
   "source": [
    "all_requests.isna().sum()"
   ]
  },
  {
   "cell_type": "code",
   "execution_count": 11,
   "metadata": {},
   "outputs": [
    {
     "data": {
      "text/plain": [
       "Duration    127\n",
       "dtype: int64"
      ]
     },
     "execution_count": 11,
     "metadata": {},
     "output_type": "execute_result"
    }
   ],
   "source": [
    "all_requests.isna().sum()"
   ]
  },
  {
   "cell_type": "code",
   "execution_count": 12,
   "metadata": {},
   "outputs": [],
   "source": [
    "# Note: Resampler objects are returned by .resample() calls. Will not work until set index to EndTimeStamp!\n",
    "# dur_by_day_resampler = all_requests_s.resample('D')\n",
    "# max_dur_by_day_resampler = all_requests_s.resample('D').max()"
   ]
  },
  {
   "cell_type": "markdown",
   "metadata": {},
   "source": [
    "#### Create basis DFs containing all requests and max daily requests"
   ]
  },
  {
   "cell_type": "code",
   "execution_count": 13,
   "metadata": {},
   "outputs": [
    {
     "data": {
      "text/html": [
       "<div>\n",
       "<style scoped>\n",
       "    .dataframe tbody tr th:only-of-type {\n",
       "        vertical-align: middle;\n",
       "    }\n",
       "\n",
       "    .dataframe tbody tr th {\n",
       "        vertical-align: top;\n",
       "    }\n",
       "\n",
       "    .dataframe thead th {\n",
       "        text-align: right;\n",
       "    }\n",
       "</style>\n",
       "<table border=\"1\" class=\"dataframe\">\n",
       "  <thead>\n",
       "    <tr style=\"text-align: right;\">\n",
       "      <th></th>\n",
       "      <th>Duration</th>\n",
       "      <th>Year</th>\n",
       "      <th>Month</th>\n",
       "      <th>Week</th>\n",
       "      <th>Day</th>\n",
       "    </tr>\n",
       "    <tr>\n",
       "      <th>StartTimeStamp</th>\n",
       "      <th></th>\n",
       "      <th></th>\n",
       "      <th></th>\n",
       "      <th></th>\n",
       "      <th></th>\n",
       "    </tr>\n",
       "  </thead>\n",
       "  <tbody>\n",
       "    <tr>\n",
       "      <th>2015-05-30 21:23:56.030</th>\n",
       "      <td>0.0</td>\n",
       "      <td>2015</td>\n",
       "      <td>5</td>\n",
       "      <td>22</td>\n",
       "      <td>30</td>\n",
       "    </tr>\n",
       "    <tr>\n",
       "      <th>2015-05-30 23:36:55.653</th>\n",
       "      <td>12.0</td>\n",
       "      <td>2015</td>\n",
       "      <td>5</td>\n",
       "      <td>22</td>\n",
       "      <td>30</td>\n",
       "    </tr>\n",
       "    <tr>\n",
       "      <th>2015-05-30 23:38:25.200</th>\n",
       "      <td>13.0</td>\n",
       "      <td>2015</td>\n",
       "      <td>5</td>\n",
       "      <td>22</td>\n",
       "      <td>30</td>\n",
       "    </tr>\n",
       "    <tr>\n",
       "      <th>2015-05-30 23:44:01.490</th>\n",
       "      <td>9.0</td>\n",
       "      <td>2015</td>\n",
       "      <td>5</td>\n",
       "      <td>22</td>\n",
       "      <td>30</td>\n",
       "    </tr>\n",
       "    <tr>\n",
       "      <th>2015-05-30 23:51:05.340</th>\n",
       "      <td>8.0</td>\n",
       "      <td>2015</td>\n",
       "      <td>5</td>\n",
       "      <td>22</td>\n",
       "      <td>30</td>\n",
       "    </tr>\n",
       "  </tbody>\n",
       "</table>\n",
       "</div>"
      ],
      "text/plain": [
       "                         Duration  Year  Month  Week  Day\n",
       "StartTimeStamp                                           \n",
       "2015-05-30 21:23:56.030       0.0  2015      5    22   30\n",
       "2015-05-30 23:36:55.653      12.0  2015      5    22   30\n",
       "2015-05-30 23:38:25.200      13.0  2015      5    22   30\n",
       "2015-05-30 23:44:01.490       9.0  2015      5    22   30\n",
       "2015-05-30 23:51:05.340       8.0  2015      5    22   30"
      ]
     },
     "execution_count": 13,
     "metadata": {},
     "output_type": "execute_result"
    }
   ],
   "source": [
    "all_requests['Year'] = all_requests.index.year\n",
    "all_requests['Month'] = all_requests.index.month\n",
    "all_requests['Week'] = all_requests.index.week\n",
    "all_requests['Day'] = all_requests.index.day\n",
    "all_requests = all_requests.dropna()\n",
    "all_requests.head()"
   ]
  },
  {
   "cell_type": "markdown",
   "metadata": {},
   "source": [
    "Create new DataFrame with max request duration for day, + time bucket columns:"
   ]
  },
  {
   "cell_type": "code",
   "execution_count": 21,
   "metadata": {},
   "outputs": [
    {
     "data": {
      "text/html": [
       "<div>\n",
       "<style scoped>\n",
       "    .dataframe tbody tr th:only-of-type {\n",
       "        vertical-align: middle;\n",
       "    }\n",
       "\n",
       "    .dataframe tbody tr th {\n",
       "        vertical-align: top;\n",
       "    }\n",
       "\n",
       "    .dataframe thead th {\n",
       "        text-align: right;\n",
       "    }\n",
       "</style>\n",
       "<table border=\"1\" class=\"dataframe\">\n",
       "  <thead>\n",
       "    <tr style=\"text-align: right;\">\n",
       "      <th></th>\n",
       "      <th>Max_Duration</th>\n",
       "      <th>Year</th>\n",
       "      <th>Month</th>\n",
       "      <th>Week</th>\n",
       "      <th>Day</th>\n",
       "      <th>Weekday</th>\n",
       "    </tr>\n",
       "    <tr>\n",
       "      <th>StartTimeStamp</th>\n",
       "      <th></th>\n",
       "      <th></th>\n",
       "      <th></th>\n",
       "      <th></th>\n",
       "      <th></th>\n",
       "      <th></th>\n",
       "    </tr>\n",
       "  </thead>\n",
       "  <tbody>\n",
       "    <tr>\n",
       "      <th>2015-01-19</th>\n",
       "      <td>4.0</td>\n",
       "      <td>2015</td>\n",
       "      <td>1</td>\n",
       "      <td>4.0</td>\n",
       "      <td>19.0</td>\n",
       "      <td>Monday</td>\n",
       "    </tr>\n",
       "    <tr>\n",
       "      <th>2015-01-22</th>\n",
       "      <td>1.0</td>\n",
       "      <td>2015</td>\n",
       "      <td>1</td>\n",
       "      <td>4.0</td>\n",
       "      <td>22.0</td>\n",
       "      <td>Thursday</td>\n",
       "    </tr>\n",
       "    <tr>\n",
       "      <th>2015-01-26</th>\n",
       "      <td>46.0</td>\n",
       "      <td>2015</td>\n",
       "      <td>1</td>\n",
       "      <td>5.0</td>\n",
       "      <td>26.0</td>\n",
       "      <td>Monday</td>\n",
       "    </tr>\n",
       "    <tr>\n",
       "      <th>2015-01-27</th>\n",
       "      <td>2.0</td>\n",
       "      <td>2015</td>\n",
       "      <td>1</td>\n",
       "      <td>5.0</td>\n",
       "      <td>27.0</td>\n",
       "      <td>Tuesday</td>\n",
       "    </tr>\n",
       "    <tr>\n",
       "      <th>2015-01-28</th>\n",
       "      <td>5.0</td>\n",
       "      <td>2015</td>\n",
       "      <td>1</td>\n",
       "      <td>5.0</td>\n",
       "      <td>28.0</td>\n",
       "      <td>Wednesday</td>\n",
       "    </tr>\n",
       "  </tbody>\n",
       "</table>\n",
       "</div>"
      ],
      "text/plain": [
       "                Max_Duration  Year  Month  Week   Day    Weekday\n",
       "StartTimeStamp                                                  \n",
       "2015-01-19               4.0  2015      1   4.0  19.0     Monday\n",
       "2015-01-22               1.0  2015      1   4.0  22.0   Thursday\n",
       "2015-01-26              46.0  2015      1   5.0  26.0     Monday\n",
       "2015-01-27               2.0  2015      1   5.0  27.0    Tuesday\n",
       "2015-01-28               5.0  2015      1   5.0  28.0  Wednesday"
      ]
     },
     "execution_count": 21,
     "metadata": {},
     "output_type": "execute_result"
    }
   ],
   "source": [
    "# Create daily_max_request DF by downsampling all_requests_df:\n",
    "daily_max_request = all_requests.resample('D').max()\n",
    "daily_max_request['Year'] = daily_max_request.index.year\n",
    "daily_max_request['Month'] = daily_max_request.index.month\n",
    "daily_max_request['Weekday'] = daily_max_request.index.weekday_name\n",
    "daily_max_request = daily_max_request.dropna()\n",
    "daily_max_request = daily_max_request.rename(columns={'Duration':'Max_Duration'})\n",
    "daily_max_request.head()\n",
    "\n",
    "# week_groups = daily_max_request.groupby([pd.Grouper(freq='W'), 'Duration'])\n",
    "# weeks = pd.DataFrame()\n",
    "# for dur, week in week_groups:\n",
    "#     week_groups[week.dur] = week.values\n",
    "\n",
    "# all_requests_df['day'] = all_requests_df.index.day\n",
    "# all_requests_df['week'] = all_requests_df.index.week"
   ]
  },
  {
   "cell_type": "code",
   "execution_count": null,
   "metadata": {},
   "outputs": [],
   "source": [
    "# Create a DF for each month:\n",
    "\n",
    "def create_df_for_month(origin_df, month_df, month_num): # Can python modify objects passed to it?\n",
    "    for i in range(len(all_requests_df['Month'])): # 'Month' to be more readable/explicit\n",
    "        if all_requests['Month'][i] = 1:\n",
    "            month_df['Month'][i] = "
   ]
  },
  {
   "cell_type": "markdown",
   "metadata": {},
   "source": [
    "## Playing around with pure matplotlib..."
   ]
  },
  {
   "cell_type": "markdown",
   "metadata": {
    "jupyter": {
     "source_hidden": true
    }
   },
   "source": [
    "#### Plot max request durations by day"
   ]
  },
  {
   "cell_type": "code",
   "execution_count": null,
   "metadata": {
    "jupyter": {
     "source_hidden": true
    }
   },
   "outputs": [],
   "source": [
    "fig, ax = plt.subplots(figsize=(10,10))\n",
    "ax.scatter(x=daily_max_request.Weekday, y=daily_max_request.Duration)\n",
    "#ax.hist((daily_max_request.weekday))"
   ]
  },
  {
   "cell_type": "code",
   "execution_count": null,
   "metadata": {
    "jupyter": {
     "source_hidden": true
    }
   },
   "outputs": [],
   "source": [
    "fig, (ax1, ax2, ax3, ax4) = plt.subplots(nrows=4, ncols=1, figsize=(10,10))\n",
    "\n",
    "# Create the scatter plot for the first week:\n",
    "ax1.scatter(x=daily_max_request.Weekday, y=daily_max_request.Duration)"
   ]
  },
  {
   "cell_type": "code",
   "execution_count": null,
   "metadata": {
    "jupyter": {
     "source_hidden": true
    }
   },
   "outputs": [],
   "source": [
    "# Use matplotlib object oriented approach to create a plot by day:\n",
    "\n",
    "# Remove index...\n",
    "\n",
    "request_days_arr = all_requests_df.day.values # Convert Series to nd array (transpose the matrix first)\n",
    "print(request_days_arr)\n",
    "#print(all_requests_arr[0])  # Debugging\n",
    "# Convert Timestamp data (EndTimeStamp) to datetime:\n",
    "#for i in range(len(all_requests_arr[0])):\n",
    "#        all_requests_arr[0][i] = np.datetime64(all_requests_arr[0][i])\n",
    "       # all_requests_arr[0][i] = np.datetime64(all_requests_arr[0][i])\n",
    "#print(all_requests_arr[0])  # Debugging\n",
    "\n",
    "fig, ax = plt.subplots()\n",
    "ax.hist(all_requests_arr)"
   ]
  },
  {
   "cell_type": "code",
   "execution_count": null,
   "metadata": {
    "jupyter": {
     "source_hidden": true
    }
   },
   "outputs": [],
   "source": [
    "# Check time data types:\n",
    "print(all_requests_df)\n",
    "print(durations_by_day)"
   ]
  },
  {
   "cell_type": "code",
   "execution_count": null,
   "metadata": {
    "jupyter": {
     "source_hidden": true
    }
   },
   "outputs": [],
   "source": [
    "weeks = pd.DataFrame()\n",
    "\n",
    "for day in durations_by_day.count():\n",
    "    weeks[i] = \n",
    "\n",
    "\n",
    "for index, max_dur in durations_by_day:\n",
    "    weeks[index] = max_dur.values\n",
    "weeks.plot(subplots=True, legend=False)\n",
    "plt.show()"
   ]
  },
  {
   "cell_type": "markdown",
   "metadata": {},
   "source": [
    "## Seaborn for visualizing request durations by time occurred"
   ]
  },
  {
   "cell_type": "code",
   "execution_count": 22,
   "metadata": {},
   "outputs": [],
   "source": [
    "import seaborn as sns"
   ]
  },
  {
   "cell_type": "markdown",
   "metadata": {},
   "source": [
    "Add Y, M, W, D columns to all_requests for easy plotting by *occurance time* later. This will be our basis DF for many others."
   ]
  },
  {
   "cell_type": "markdown",
   "metadata": {},
   "source": [
    "#### Daily max request durations by weekday"
   ]
  },
  {
   "cell_type": "code",
   "execution_count": 191,
   "metadata": {},
   "outputs": [
    {
     "data": {
      "text/plain": [
       "<seaborn.axisgrid.FacetGrid at 0x1106c310>"
      ]
     },
     "execution_count": 191,
     "metadata": {},
     "output_type": "execute_result"
    },
    {
     "data": {
      "image/png": "[encoded data removed]",
      "text/plain": [
       "<Figure size 720x720 with 1 Axes>"
      ]
     },
     "metadata": {},
     "output_type": "display_data"
    },
    {
     "data": {
      "image/png": "[encoded data removed]",
      "text/plain": [
       "<Figure size 424.1x360 with 1 Axes>"
      ]
     },
     "metadata": {},
     "output_type": "display_data"
    }
   ],
   "source": [
    "#--- Why do we have two graphs showing up here?\n",
    "fig, ax = plt.subplots(figsize=(10,10))\n",
    "ax.set(yscale='log')\n",
    "sns.catplot(x='Weekday', y='Max_Duration', hue='Year', data=daily_max_request, ax=ax)\n",
    "\n",
    "# Day of the month instead of week, exclude sat/sun. Should see a pattern of spikes for first 7 day of the month.\n",
    "\n",
    "# Add another variable, count of durations. Plot with amount of calls, overlay durations."
   ]
  },
  {
   "cell_type": "markdown",
   "metadata": {},
   "source": [
    "#### Durations by month"
   ]
  },
  {
   "cell_type": "code",
   "execution_count": 165,
   "metadata": {},
   "outputs": [
    {
     "data": {
      "text/plain": [
       "<seaborn.axisgrid.FacetGrid at 0x14058c10>"
      ]
     },
     "execution_count": 165,
     "metadata": {},
     "output_type": "execute_result"
    },
    {
     "data": {
      "image/png": "[encoded data removed]",
      "text/plain": [
       "<Figure size 720x720 with 1 Axes>"
      ]
     },
     "metadata": {},
     "output_type": "display_data"
    },
    {
     "data": {
      "image/png": "[encoded data removed]",
      "text/plain": [
       "<Figure size 360x360 with 1 Axes>"
      ]
     },
     "metadata": {},
     "output_type": "display_data"
    }
   ],
   "source": [
    "fig_dm, ax_dm = plt.subplots(figsize=(10,10))\n",
    "sns.set(style='darkgrid')\n",
    "ax_dm.set(yscale='log')\n",
    "sns.relplot(x='Month', y='Duration', data=all_requests, ax=ax_dm, kind='line')"
   ]
  },
  {
   "cell_type": "markdown",
   "metadata": {},
   "source": [
    "#### Create DF for all_requests for each month"
   ]
  },
  {
   "cell_type": "markdown",
   "metadata": {},
   "source": [
    "Group and split all_requests data by month"
   ]
  },
  {
   "cell_type": "code",
   "execution_count": null,
   "metadata": {},
   "outputs": [],
   "source": [
    "# Hanlde these errors. Handle errors for nulls in all of the code."
   ]
  },
  {
   "cell_type": "code",
   "execution_count": 225,
   "metadata": {},
   "outputs": [],
   "source": [
    "grouped_months = all_requests.groupby('Month')\n",
    "# for name, group in grouped_months:\n",
    "#     print(name)\n",
    "#     print(group)\n",
    "\n",
    "# Some months have no data, exclude these:\n",
    "all_requests_jan = grouped_months.get_group(1)\n",
    "all_requests_feb = grouped_months.get_group(2)\n",
    "all_requests_mar = grouped_months.get_group(3)\n",
    "all_requests_apr = grouped_months.get_group(4)\n",
    "all_requests_may = grouped_months.get_group(5)\n",
    "all_requests_jun = grouped_months.get_group(6)\n",
    "all_requests_jul = grouped_months.get_group(7)\n",
    "#all_requests_aug = grouped_months.get_group(8)\n",
    "# all_requests_sep = grouped_months.get_group(9)\n",
    "all_requests_oct = grouped_months.get_group(10)\n",
    "# all_requests_nov = grouped_months.get_group(11)\n",
    "# all_requests_dec = grouped_months.get_group(12)"
   ]
  },
  {
   "cell_type": "markdown",
   "metadata": {},
   "source": [
    "#### Durations Jan"
   ]
  },
  {
   "cell_type": "code",
   "execution_count": 105,
   "metadata": {},
   "outputs": [
    {
     "data": {
      "text/plain": [
       "<seaborn.axisgrid.FacetGrid at 0xe113a30>"
      ]
     },
     "execution_count": 105,
     "metadata": {},
     "output_type": "execute_result"
    },
    {
     "data": {
      "image/png": "[encoded data removed]",
      "text/plain": [
       "<Figure size 720x720 with 1 Axes>"
      ]
     },
     "metadata": {},
     "output_type": "display_data"
    },
    {
     "data": {
      "image/png": "[encoded data removed]",
      "text/plain": [
       "<Figure size 360x360 with 1 Axes>"
      ]
     },
     "metadata": {},
     "output_type": "display_data"
    }
   ],
   "source": [
    "fig_j, ax_j = plt.subplots(figsize=(10,10))\n",
    "sns.set(style='darkgrid')\n",
    "sns.relplot(x='Day', y='Duration', data=all_requests_jan, ax=ax_j, kind='line')"
   ]
  },
  {
   "cell_type": "markdown",
   "metadata": {},
   "source": [
    "#### Durations by day of the month"
   ]
  },
  {
   "cell_type": "code",
   "execution_count": null,
   "metadata": {},
   "outputs": [],
   "source": [
    "# Make labels readable. Exclude weekends. Exclude holidays? Make if very obvious that we are excluding thesedays, make this reversible."
   ]
  },
  {
   "cell_type": "code",
   "execution_count": 226,
   "metadata": {},
   "outputs": [
    {
     "data": {
      "text/plain": [
       "<matplotlib.axes._subplots.AxesSubplot at 0x16045a70>"
      ]
     },
     "execution_count": 226,
     "metadata": {},
     "output_type": "execute_result"
    },
    {
     "data": {
      "image/png": "[encoded data removed]",
      "text/plain": [
       "<Figure size 1800x2160 with 12 Axes>"
      ]
     },
     "metadata": {},
     "output_type": "display_data"
    }
   ],
   "source": [
    "#--- Make this more concise?\n",
    "fig_months, axes = plt.subplots(12, 1, figsize=(25,30), sharex='all')\n",
    "sns.lineplot(x='Day', y='Duration', data=all_requests_jan, ax=axes[0]).set(title=\"January\")\n",
    "sns.lineplot(x='Day', y='Duration', data=all_requests_feb, ax=axes[1])\n",
    "sns.lineplot(x='Day', y='Duration', data=all_requests_mar, ax=axes[2])\n",
    "sns.lineplot(x='Day', y='Duration', data=all_requests_apr, ax=axes[3])\n",
    "sns.lineplot(x='Day', y='Duration', data=all_requests_may, ax=axes[4])\n",
    "sns.lineplot(x='Day', y='Duration', data=all_requests_jun, ax=axes[5])\n",
    "sns.lineplot(x='Day', y='Duration', data=all_requests_jul, ax=axes[6])\n",
    "#sns.lineplot(x='Day', y='Duration', data=all_requests_aug, ax=axes[7])\n",
    "#sns.lineplot(x='Day', y='Duration', data=all_requests_sep, ax=axes[8])\n",
    "sns.lineplot(x='Day', y='Duration', data=all_requests_oct, ax=axes[9])\n",
    "#sns.lineplot(x='Day', y='Duration', data=all_requests_nov, ax=axes[10])\n",
    "#sns.lineplot(x='Day', y='Duration', data=all_requests_dec, ax=axes[11])`"
   ]
  },
  {
   "cell_type": "markdown",
   "metadata": {},
   "source": [
    "#### Request load by month"
   ]
  },
  {
   "cell_type": "code",
   "execution_count": 166,
   "metadata": {},
   "outputs": [
    {
     "data": {
      "text/plain": [
       "<seaborn.axisgrid.FacetGrid at 0x14cb89d0>"
      ]
     },
     "execution_count": 166,
     "metadata": {},
     "output_type": "execute_result"
    },
    {
     "data": {
      "image/png": "[encoded data removed]",
      "text/plain": [
       "<Figure size 720x720 with 1 Axes>"
      ]
     },
     "metadata": {},
     "output_type": "display_data"
    },
    {
     "data": {
      "image/png": "[encoded data removed]",
      "text/plain": [
       "<Figure size 360x360 with 1 Axes>"
      ]
     },
     "metadata": {},
     "output_type": "display_data"
    }
   ],
   "source": [
    "fig_lm, ax_lm = plt.subplots(figsize=(10,10))\n",
    "sns.set(style='darkgrid')\n",
    "ax_lm.set(yscale='log')\n",
    "sns.relplot(x='Month', y='Max_Duration', data=daily_max_request, ax=ax_lm, kind='line')"
   ]
  },
  {
   "cell_type": "markdown",
   "metadata": {},
   "source": [
    "#### Min/max request dur. per week vs. request load per day"
   ]
  },
  {
   "cell_type": "markdown",
   "metadata": {},
   "source": [
    "Create new DF with total requests per day:"
   ]
  },
  {
   "cell_type": "code",
   "execution_count": 23,
   "metadata": {},
   "outputs": [],
   "source": [
    "# Modify this to . Don't necessarily care about days. Collapse into 5 day (M=F) increments and repeat these over each month.\n",
    "# Summarize average request time but overlay min and max/outliers.\n",
    "# Use log scale with infinite deviation (for requests so long that something is wrong with the server)/cutoff point for extreme outliers.\n",
    "# Three months of data for week view. Maybe month-by-month for 2 years. Total health history for all data.\n",
    "# Make these time variables easy to modify by new users of this notebook.\n",
    "\n",
    "# We will be giving this to clients. This will be a way to diagnose issues. This notebook will be logs, there wil be another for troubleshooting server issues.\n",
    "\n",
    "# Might be able to get new data to test (WCN has 5 yrs).\n",
    "\n",
    "# Prefer mean over average."
   ]
  },
  {
   "cell_type": "code",
   "execution_count": 162,
   "metadata": {},
   "outputs": [
    {
     "data": {
      "text/html": [
       "<div>\n",
       "<style scoped>\n",
       "    .dataframe tbody tr th:only-of-type {\n",
       "        vertical-align: middle;\n",
       "    }\n",
       "\n",
       "    .dataframe tbody tr th {\n",
       "        vertical-align: top;\n",
       "    }\n",
       "\n",
       "    .dataframe thead th {\n",
       "        text-align: right;\n",
       "    }\n",
       "</style>\n",
       "<table border=\"1\" class=\"dataframe\">\n",
       "  <thead>\n",
       "    <tr style=\"text-align: right;\">\n",
       "      <th></th>\n",
       "      <th>Duration_Count</th>\n",
       "      <th>Year</th>\n",
       "      <th>Month</th>\n",
       "      <th>Week</th>\n",
       "      <th>Day</th>\n",
       "      <th>Weekday</th>\n",
       "    </tr>\n",
       "    <tr>\n",
       "      <th>EndTimeStamp</th>\n",
       "      <th></th>\n",
       "      <th></th>\n",
       "      <th></th>\n",
       "      <th></th>\n",
       "      <th></th>\n",
       "      <th></th>\n",
       "    </tr>\n",
       "  </thead>\n",
       "  <tbody>\n",
       "    <tr>\n",
       "      <th>2015-01-19</th>\n",
       "      <td>29</td>\n",
       "      <td>29</td>\n",
       "      <td>1</td>\n",
       "      <td>29</td>\n",
       "      <td>29</td>\n",
       "      <td>Monday</td>\n",
       "    </tr>\n",
       "    <tr>\n",
       "      <th>2015-01-20</th>\n",
       "      <td>0</td>\n",
       "      <td>0</td>\n",
       "      <td>1</td>\n",
       "      <td>0</td>\n",
       "      <td>0</td>\n",
       "      <td>Tuesday</td>\n",
       "    </tr>\n",
       "    <tr>\n",
       "      <th>2015-01-21</th>\n",
       "      <td>0</td>\n",
       "      <td>0</td>\n",
       "      <td>1</td>\n",
       "      <td>0</td>\n",
       "      <td>0</td>\n",
       "      <td>Wednesday</td>\n",
       "    </tr>\n",
       "    <tr>\n",
       "      <th>2015-01-22</th>\n",
       "      <td>3</td>\n",
       "      <td>3</td>\n",
       "      <td>1</td>\n",
       "      <td>3</td>\n",
       "      <td>3</td>\n",
       "      <td>Thursday</td>\n",
       "    </tr>\n",
       "    <tr>\n",
       "      <th>2015-01-23</th>\n",
       "      <td>0</td>\n",
       "      <td>0</td>\n",
       "      <td>1</td>\n",
       "      <td>0</td>\n",
       "      <td>0</td>\n",
       "      <td>Friday</td>\n",
       "    </tr>\n",
       "  </tbody>\n",
       "</table>\n",
       "</div>"
      ],
      "text/plain": [
       "              Duration_Count  Year  Month  Week  Day    Weekday\n",
       "EndTimeStamp                                                   \n",
       "2015-01-19                29    29      1    29   29     Monday\n",
       "2015-01-20                 0     0      1     0    0    Tuesday\n",
       "2015-01-21                 0     0      1     0    0  Wednesday\n",
       "2015-01-22                 3     3      1     3    3   Thursday\n",
       "2015-01-23                 0     0      1     0    0     Friday"
      ]
     },
     "execution_count": 162,
     "metadata": {},
     "output_type": "execute_result"
    }
   ],
   "source": [
    "daily_request_count = all_requests.resample('D').count()\n",
    "daily_request_count['Month'] = daily_request_count.index.month\n",
    "daily_request_count['Weekday'] = daily_request_count.index.weekday_name\n",
    "daily_request_count = daily_request_count.dropna()\n",
    "daily_request_count = daily_request_count.rename(columns={'Duration':'Duration_Count'})\n",
    "daily_request_count.head()"
   ]
  },
  {
   "cell_type": "markdown",
   "metadata": {},
   "source": [
    "Create DF with maxes/mins per week:"
   ]
  },
  {
   "cell_type": "code",
   "execution_count": 216,
   "metadata": {},
   "outputs": [
    {
     "data": {
      "text/html": [
       "<div>\n",
       "<style scoped>\n",
       "    .dataframe tbody tr th:only-of-type {\n",
       "        vertical-align: middle;\n",
       "    }\n",
       "\n",
       "    .dataframe tbody tr th {\n",
       "        vertical-align: top;\n",
       "    }\n",
       "\n",
       "    .dataframe thead th {\n",
       "        text-align: right;\n",
       "    }\n",
       "</style>\n",
       "<table border=\"1\" class=\"dataframe\">\n",
       "  <thead>\n",
       "    <tr style=\"text-align: right;\">\n",
       "      <th></th>\n",
       "      <th>Min_Duration</th>\n",
       "      <th>Year</th>\n",
       "      <th>Month</th>\n",
       "      <th>Week</th>\n",
       "      <th>Day</th>\n",
       "      <th>Weekday</th>\n",
       "      <th>Max_Duration</th>\n",
       "    </tr>\n",
       "    <tr>\n",
       "      <th>EndTimeStamp</th>\n",
       "      <th></th>\n",
       "      <th></th>\n",
       "      <th></th>\n",
       "      <th></th>\n",
       "      <th></th>\n",
       "      <th></th>\n",
       "      <th></th>\n",
       "    </tr>\n",
       "  </thead>\n",
       "  <tbody>\n",
       "    <tr>\n",
       "      <th>2015-01-25</th>\n",
       "      <td>0.0</td>\n",
       "      <td>2015.0</td>\n",
       "      <td>1.0</td>\n",
       "      <td>4.0</td>\n",
       "      <td>19.0</td>\n",
       "      <td>Sunday</td>\n",
       "      <td>4.0</td>\n",
       "    </tr>\n",
       "    <tr>\n",
       "      <th>2015-02-01</th>\n",
       "      <td>0.0</td>\n",
       "      <td>2015.0</td>\n",
       "      <td>1.0</td>\n",
       "      <td>5.0</td>\n",
       "      <td>1.0</td>\n",
       "      <td>Sunday</td>\n",
       "      <td>46.0</td>\n",
       "    </tr>\n",
       "    <tr>\n",
       "      <th>2015-02-08</th>\n",
       "      <td>0.0</td>\n",
       "      <td>2015.0</td>\n",
       "      <td>2.0</td>\n",
       "      <td>6.0</td>\n",
       "      <td>2.0</td>\n",
       "      <td>Sunday</td>\n",
       "      <td>40.0</td>\n",
       "    </tr>\n",
       "    <tr>\n",
       "      <th>2015-02-15</th>\n",
       "      <td>0.0</td>\n",
       "      <td>2015.0</td>\n",
       "      <td>2.0</td>\n",
       "      <td>7.0</td>\n",
       "      <td>9.0</td>\n",
       "      <td>Sunday</td>\n",
       "      <td>23.0</td>\n",
       "    </tr>\n",
       "    <tr>\n",
       "      <th>2015-03-01</th>\n",
       "      <td>23.0</td>\n",
       "      <td>2015.0</td>\n",
       "      <td>2.0</td>\n",
       "      <td>9.0</td>\n",
       "      <td>23.0</td>\n",
       "      <td>Sunday</td>\n",
       "      <td>23.0</td>\n",
       "    </tr>\n",
       "  </tbody>\n",
       "</table>\n",
       "</div>"
      ],
      "text/plain": [
       "              Min_Duration    Year  Month  Week   Day Weekday  Max_Duration\n",
       "EndTimeStamp                                                               \n",
       "2015-01-25             0.0  2015.0    1.0   4.0  19.0  Sunday           4.0\n",
       "2015-02-01             0.0  2015.0    1.0   5.0   1.0  Sunday          46.0\n",
       "2015-02-08             0.0  2015.0    2.0   6.0   2.0  Sunday          40.0\n",
       "2015-02-15             0.0  2015.0    2.0   7.0   9.0  Sunday          23.0\n",
       "2015-03-01            23.0  2015.0    2.0   9.0  23.0  Sunday          23.0"
      ]
     },
     "execution_count": 216,
     "metadata": {},
     "output_type": "execute_result"
    }
   ],
   "source": [
    "# First get maxes into a new DF with week downsample:\n",
    "request_max_wk = all_requests.resample('W').max()\n",
    "#request_max_wk = request_max_wk.rename(columns={'Duration':'Max_Duration'})\n",
    "\n",
    "# Then get mins into a new DF:\n",
    "# request_min_wk = all_requests.resample('W').min()\n",
    "# request_min_wk = request_min_wk.rename(columns={'Duration':'Min_Duration'})\n",
    "\n",
    "# Create an outliers DF with both max and min:\n",
    "request_outliers_wk = all_requests.resample('W').min()\n",
    "request_outliers_wk['Weekday'] = request_outliers_wk.index.weekday_name\n",
    "request_outliers_wk['Max_Duration'] = request_max_wk['Duration']\n",
    "request_outliers_wk = request_outliers_wk.rename(columns={'Duration':'Min_Duration'})\n",
    "request_outliers_wk = request_outliers_wk.dropna()\n",
    "request_outliers_wk.head()"
   ]
  },
  {
   "cell_type": "code",
   "execution_count": null,
   "metadata": {},
   "outputs": [],
   "source": []
  },
  {
   "cell_type": "code",
   "execution_count": null,
   "metadata": {},
   "outputs": [],
   "source": []
  }
 ],
 "metadata": {
  "kernelspec": {
   "display_name": "Python 3",
   "language": "python",
   "name": "python3"
  },
  "language_info": {
   "codemirror_mode": {
    "name": "ipython",
    "version": 3
   },
   "file_extension": ".py",
   "mimetype": "text/x-python",
   "name": "python",
   "nbconvert_exporter": "python",
   "pygments_lexer": "ipython3",
   "version": "3.7.4"
  }
 },
 "nbformat": 4,
 "nbformat_minor": 4
}
